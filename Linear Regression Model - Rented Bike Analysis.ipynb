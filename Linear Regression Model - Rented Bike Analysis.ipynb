{
 "cells": [
  {
   "cell_type": "markdown",
   "metadata": {},
   "source": [
    "# Multi Linear Regression - Bike Sharing Assignment"
   ]
  },
  {
   "cell_type": "markdown",
   "metadata": {
    "id": "AsfrcvhLMZ8q"
   },
   "source": [
    "## **Importing Necessary Libraries**"
   ]
  },
  {
   "cell_type": "code",
   "execution_count": 1,
   "metadata": {
    "id": "zz90Z5wLK91p"
   },
   "outputs": [],
   "source": [
    "# For analysis and numerical functions\n",
    "import numpy as np\n",
    "import pandas as pd\n",
    "\n",
    "# For Vizualization\n",
    "import matplotlib.pyplot as plt\n",
    "import seaborn as sns\n",
    "\n",
    "# Extra\n",
    "import warnings\n",
    "warnings.filterwarnings(action='ignore')"
   ]
  },
  {
   "cell_type": "markdown",
   "metadata": {
    "id": "g2XnsMhDPT9e"
   },
   "source": [
    "## **Dataset Loading**"
   ]
  },
  {
   "cell_type": "code",
   "execution_count": 2,
   "metadata": {
    "id": "8ovJg7QPOPpo"
   },
   "outputs": [],
   "source": [
    "# Read the csv file using pandas\n",
    "df = pd.read_csv('day.csv')"
   ]
  },
  {
   "cell_type": "code",
   "execution_count": 3,
   "metadata": {
    "colab": {
     "base_uri": "https://localhost:8080/",
     "height": 206
    },
    "id": "4P0pgQxxOmK0",
    "outputId": "e673453e-a12b-453b-bdc1-9bdf0841bbb9"
   },
   "outputs": [
    {
     "data": {
      "text/html": [
       "<div>\n",
       "<style scoped>\n",
       "    .dataframe tbody tr th:only-of-type {\n",
       "        vertical-align: middle;\n",
       "    }\n",
       "\n",
       "    .dataframe tbody tr th {\n",
       "        vertical-align: top;\n",
       "    }\n",
       "\n",
       "    .dataframe thead th {\n",
       "        text-align: right;\n",
       "    }\n",
       "</style>\n",
       "<table border=\"1\" class=\"dataframe\">\n",
       "  <thead>\n",
       "    <tr style=\"text-align: right;\">\n",
       "      <th></th>\n",
       "      <th>instant</th>\n",
       "      <th>dteday</th>\n",
       "      <th>season</th>\n",
       "      <th>yr</th>\n",
       "      <th>mnth</th>\n",
       "      <th>holiday</th>\n",
       "      <th>weekday</th>\n",
       "      <th>workingday</th>\n",
       "      <th>weathersit</th>\n",
       "      <th>temp</th>\n",
       "      <th>atemp</th>\n",
       "      <th>hum</th>\n",
       "      <th>windspeed</th>\n",
       "      <th>casual</th>\n",
       "      <th>registered</th>\n",
       "      <th>cnt</th>\n",
       "    </tr>\n",
       "  </thead>\n",
       "  <tbody>\n",
       "    <tr>\n",
       "      <th>0</th>\n",
       "      <td>1</td>\n",
       "      <td>01-01-2018</td>\n",
       "      <td>1</td>\n",
       "      <td>0</td>\n",
       "      <td>1</td>\n",
       "      <td>0</td>\n",
       "      <td>6</td>\n",
       "      <td>0</td>\n",
       "      <td>2</td>\n",
       "      <td>14.110847</td>\n",
       "      <td>18.18125</td>\n",
       "      <td>80.5833</td>\n",
       "      <td>10.749882</td>\n",
       "      <td>331</td>\n",
       "      <td>654</td>\n",
       "      <td>985</td>\n",
       "    </tr>\n",
       "    <tr>\n",
       "      <th>1</th>\n",
       "      <td>2</td>\n",
       "      <td>02-01-2018</td>\n",
       "      <td>1</td>\n",
       "      <td>0</td>\n",
       "      <td>1</td>\n",
       "      <td>0</td>\n",
       "      <td>0</td>\n",
       "      <td>0</td>\n",
       "      <td>2</td>\n",
       "      <td>14.902598</td>\n",
       "      <td>17.68695</td>\n",
       "      <td>69.6087</td>\n",
       "      <td>16.652113</td>\n",
       "      <td>131</td>\n",
       "      <td>670</td>\n",
       "      <td>801</td>\n",
       "    </tr>\n",
       "    <tr>\n",
       "      <th>2</th>\n",
       "      <td>3</td>\n",
       "      <td>03-01-2018</td>\n",
       "      <td>1</td>\n",
       "      <td>0</td>\n",
       "      <td>1</td>\n",
       "      <td>0</td>\n",
       "      <td>1</td>\n",
       "      <td>1</td>\n",
       "      <td>1</td>\n",
       "      <td>8.050924</td>\n",
       "      <td>9.47025</td>\n",
       "      <td>43.7273</td>\n",
       "      <td>16.636703</td>\n",
       "      <td>120</td>\n",
       "      <td>1229</td>\n",
       "      <td>1349</td>\n",
       "    </tr>\n",
       "    <tr>\n",
       "      <th>3</th>\n",
       "      <td>4</td>\n",
       "      <td>04-01-2018</td>\n",
       "      <td>1</td>\n",
       "      <td>0</td>\n",
       "      <td>1</td>\n",
       "      <td>0</td>\n",
       "      <td>2</td>\n",
       "      <td>1</td>\n",
       "      <td>1</td>\n",
       "      <td>8.200000</td>\n",
       "      <td>10.60610</td>\n",
       "      <td>59.0435</td>\n",
       "      <td>10.739832</td>\n",
       "      <td>108</td>\n",
       "      <td>1454</td>\n",
       "      <td>1562</td>\n",
       "    </tr>\n",
       "    <tr>\n",
       "      <th>4</th>\n",
       "      <td>5</td>\n",
       "      <td>05-01-2018</td>\n",
       "      <td>1</td>\n",
       "      <td>0</td>\n",
       "      <td>1</td>\n",
       "      <td>0</td>\n",
       "      <td>3</td>\n",
       "      <td>1</td>\n",
       "      <td>1</td>\n",
       "      <td>9.305237</td>\n",
       "      <td>11.46350</td>\n",
       "      <td>43.6957</td>\n",
       "      <td>12.522300</td>\n",
       "      <td>82</td>\n",
       "      <td>1518</td>\n",
       "      <td>1600</td>\n",
       "    </tr>\n",
       "  </tbody>\n",
       "</table>\n",
       "</div>"
      ],
      "text/plain": [
       "   instant      dteday  season  yr  mnth  holiday  weekday  workingday  \\\n",
       "0        1  01-01-2018       1   0     1        0        6           0   \n",
       "1        2  02-01-2018       1   0     1        0        0           0   \n",
       "2        3  03-01-2018       1   0     1        0        1           1   \n",
       "3        4  04-01-2018       1   0     1        0        2           1   \n",
       "4        5  05-01-2018       1   0     1        0        3           1   \n",
       "\n",
       "   weathersit       temp     atemp      hum  windspeed  casual  registered  \\\n",
       "0           2  14.110847  18.18125  80.5833  10.749882     331         654   \n",
       "1           2  14.902598  17.68695  69.6087  16.652113     131         670   \n",
       "2           1   8.050924   9.47025  43.7273  16.636703     120        1229   \n",
       "3           1   8.200000  10.60610  59.0435  10.739832     108        1454   \n",
       "4           1   9.305237  11.46350  43.6957  12.522300      82        1518   \n",
       "\n",
       "    cnt  \n",
       "0   985  \n",
       "1   801  \n",
       "2  1349  \n",
       "3  1562  \n",
       "4  1600  "
      ]
     },
     "execution_count": 3,
     "metadata": {},
     "output_type": "execute_result"
    }
   ],
   "source": [
    "# Reading the Dataset\n",
    "df.head()"
   ]
  },
  {
   "cell_type": "markdown",
   "metadata": {
    "id": "a9uanJxDg0Sn"
   },
   "source": [
    "#### cnt is a target variable anmd rest columns are features"
   ]
  },
  {
   "cell_type": "markdown",
   "metadata": {
    "id": "8oqtqAEEP43V"
   },
   "source": [
    "## **Data Sanity Checks**"
   ]
  },
  {
   "cell_type": "code",
   "execution_count": 4,
   "metadata": {
    "colab": {
     "base_uri": "https://localhost:8080/"
    },
    "id": "vU3rpT3QOoVs",
    "outputId": "7998d9aa-cffe-4175-a5ed-fe3ba6c06bdf"
   },
   "outputs": [
    {
     "data": {
      "text/plain": [
       "(730, 16)"
      ]
     },
     "execution_count": 4,
     "metadata": {},
     "output_type": "execute_result"
    }
   ],
   "source": [
    "# Checking the total number of Rows and Columns.\n",
    "df.shape"
   ]
  },
  {
   "cell_type": "markdown",
   "metadata": {},
   "source": [
    "#### There are 730 rows and 16 columns in the data set. There are no null values in any of the columns."
   ]
  },
  {
   "cell_type": "code",
   "execution_count": 5,
   "metadata": {
    "colab": {
     "base_uri": "https://localhost:8080/"
    },
    "id": "XETvIe22Osr8",
    "outputId": "1c4c7753-640a-42ba-884e-39ded9d79858"
   },
   "outputs": [
    {
     "name": "stdout",
     "output_type": "stream",
     "text": [
      "<class 'pandas.core.frame.DataFrame'>\n",
      "RangeIndex: 730 entries, 0 to 729\n",
      "Data columns (total 16 columns):\n",
      " #   Column      Non-Null Count  Dtype  \n",
      "---  ------      --------------  -----  \n",
      " 0   instant     730 non-null    int64  \n",
      " 1   dteday      730 non-null    object \n",
      " 2   season      730 non-null    int64  \n",
      " 3   yr          730 non-null    int64  \n",
      " 4   mnth        730 non-null    int64  \n",
      " 5   holiday     730 non-null    int64  \n",
      " 6   weekday     730 non-null    int64  \n",
      " 7   workingday  730 non-null    int64  \n",
      " 8   weathersit  730 non-null    int64  \n",
      " 9   temp        730 non-null    float64\n",
      " 10  atemp       730 non-null    float64\n",
      " 11  hum         730 non-null    float64\n",
      " 12  windspeed   730 non-null    float64\n",
      " 13  casual      730 non-null    int64  \n",
      " 14  registered  730 non-null    int64  \n",
      " 15  cnt         730 non-null    int64  \n",
      "dtypes: float64(4), int64(11), object(1)\n",
      "memory usage: 91.4+ KB\n"
     ]
    }
   ],
   "source": [
    "# Checking the informations of datasets.\n",
    "df.info()"
   ]
  },
  {
   "cell_type": "markdown",
   "metadata": {
    "id": "ZgnDNHY_QG-l"
   },
   "source": [
    "## **Checking Statistical Describtion**"
   ]
  },
  {
   "cell_type": "code",
   "execution_count": 6,
   "metadata": {
    "colab": {
     "base_uri": "https://localhost:8080/",
     "height": 364
    },
    "id": "ihIYKemkOv6_",
    "outputId": "df0ae1b3-0af1-4cb2-e665-4825dbbfe898"
   },
   "outputs": [
    {
     "data": {
      "text/html": [
       "<div>\n",
       "<style scoped>\n",
       "    .dataframe tbody tr th:only-of-type {\n",
       "        vertical-align: middle;\n",
       "    }\n",
       "\n",
       "    .dataframe tbody tr th {\n",
       "        vertical-align: top;\n",
       "    }\n",
       "\n",
       "    .dataframe thead th {\n",
       "        text-align: right;\n",
       "    }\n",
       "</style>\n",
       "<table border=\"1\" class=\"dataframe\">\n",
       "  <thead>\n",
       "    <tr style=\"text-align: right;\">\n",
       "      <th></th>\n",
       "      <th>instant</th>\n",
       "      <th>season</th>\n",
       "      <th>yr</th>\n",
       "      <th>mnth</th>\n",
       "      <th>holiday</th>\n",
       "      <th>weekday</th>\n",
       "      <th>workingday</th>\n",
       "      <th>weathersit</th>\n",
       "      <th>temp</th>\n",
       "      <th>atemp</th>\n",
       "      <th>hum</th>\n",
       "      <th>windspeed</th>\n",
       "      <th>casual</th>\n",
       "      <th>registered</th>\n",
       "      <th>cnt</th>\n",
       "    </tr>\n",
       "  </thead>\n",
       "  <tbody>\n",
       "    <tr>\n",
       "      <th>count</th>\n",
       "      <td>730.000000</td>\n",
       "      <td>730.000000</td>\n",
       "      <td>730.000000</td>\n",
       "      <td>730.000000</td>\n",
       "      <td>730.000000</td>\n",
       "      <td>730.000000</td>\n",
       "      <td>730.000000</td>\n",
       "      <td>730.000000</td>\n",
       "      <td>730.000000</td>\n",
       "      <td>730.000000</td>\n",
       "      <td>730.000000</td>\n",
       "      <td>730.000000</td>\n",
       "      <td>730.000000</td>\n",
       "      <td>730.000000</td>\n",
       "      <td>730.000000</td>\n",
       "    </tr>\n",
       "    <tr>\n",
       "      <th>mean</th>\n",
       "      <td>365.500000</td>\n",
       "      <td>2.498630</td>\n",
       "      <td>0.500000</td>\n",
       "      <td>6.526027</td>\n",
       "      <td>0.028767</td>\n",
       "      <td>2.997260</td>\n",
       "      <td>0.683562</td>\n",
       "      <td>1.394521</td>\n",
       "      <td>20.319259</td>\n",
       "      <td>23.726322</td>\n",
       "      <td>62.765175</td>\n",
       "      <td>12.763620</td>\n",
       "      <td>849.249315</td>\n",
       "      <td>3658.757534</td>\n",
       "      <td>4508.006849</td>\n",
       "    </tr>\n",
       "    <tr>\n",
       "      <th>std</th>\n",
       "      <td>210.877136</td>\n",
       "      <td>1.110184</td>\n",
       "      <td>0.500343</td>\n",
       "      <td>3.450215</td>\n",
       "      <td>0.167266</td>\n",
       "      <td>2.006161</td>\n",
       "      <td>0.465405</td>\n",
       "      <td>0.544807</td>\n",
       "      <td>7.506729</td>\n",
       "      <td>8.150308</td>\n",
       "      <td>14.237589</td>\n",
       "      <td>5.195841</td>\n",
       "      <td>686.479875</td>\n",
       "      <td>1559.758728</td>\n",
       "      <td>1936.011647</td>\n",
       "    </tr>\n",
       "    <tr>\n",
       "      <th>min</th>\n",
       "      <td>1.000000</td>\n",
       "      <td>1.000000</td>\n",
       "      <td>0.000000</td>\n",
       "      <td>1.000000</td>\n",
       "      <td>0.000000</td>\n",
       "      <td>0.000000</td>\n",
       "      <td>0.000000</td>\n",
       "      <td>1.000000</td>\n",
       "      <td>2.424346</td>\n",
       "      <td>3.953480</td>\n",
       "      <td>0.000000</td>\n",
       "      <td>1.500244</td>\n",
       "      <td>2.000000</td>\n",
       "      <td>20.000000</td>\n",
       "      <td>22.000000</td>\n",
       "    </tr>\n",
       "    <tr>\n",
       "      <th>25%</th>\n",
       "      <td>183.250000</td>\n",
       "      <td>2.000000</td>\n",
       "      <td>0.000000</td>\n",
       "      <td>4.000000</td>\n",
       "      <td>0.000000</td>\n",
       "      <td>1.000000</td>\n",
       "      <td>0.000000</td>\n",
       "      <td>1.000000</td>\n",
       "      <td>13.811885</td>\n",
       "      <td>16.889713</td>\n",
       "      <td>52.000000</td>\n",
       "      <td>9.041650</td>\n",
       "      <td>316.250000</td>\n",
       "      <td>2502.250000</td>\n",
       "      <td>3169.750000</td>\n",
       "    </tr>\n",
       "    <tr>\n",
       "      <th>50%</th>\n",
       "      <td>365.500000</td>\n",
       "      <td>3.000000</td>\n",
       "      <td>0.500000</td>\n",
       "      <td>7.000000</td>\n",
       "      <td>0.000000</td>\n",
       "      <td>3.000000</td>\n",
       "      <td>1.000000</td>\n",
       "      <td>1.000000</td>\n",
       "      <td>20.465826</td>\n",
       "      <td>24.368225</td>\n",
       "      <td>62.625000</td>\n",
       "      <td>12.125325</td>\n",
       "      <td>717.000000</td>\n",
       "      <td>3664.500000</td>\n",
       "      <td>4548.500000</td>\n",
       "    </tr>\n",
       "    <tr>\n",
       "      <th>75%</th>\n",
       "      <td>547.750000</td>\n",
       "      <td>3.000000</td>\n",
       "      <td>1.000000</td>\n",
       "      <td>10.000000</td>\n",
       "      <td>0.000000</td>\n",
       "      <td>5.000000</td>\n",
       "      <td>1.000000</td>\n",
       "      <td>2.000000</td>\n",
       "      <td>26.880615</td>\n",
       "      <td>30.445775</td>\n",
       "      <td>72.989575</td>\n",
       "      <td>15.625589</td>\n",
       "      <td>1096.500000</td>\n",
       "      <td>4783.250000</td>\n",
       "      <td>5966.000000</td>\n",
       "    </tr>\n",
       "    <tr>\n",
       "      <th>max</th>\n",
       "      <td>730.000000</td>\n",
       "      <td>4.000000</td>\n",
       "      <td>1.000000</td>\n",
       "      <td>12.000000</td>\n",
       "      <td>1.000000</td>\n",
       "      <td>6.000000</td>\n",
       "      <td>1.000000</td>\n",
       "      <td>3.000000</td>\n",
       "      <td>35.328347</td>\n",
       "      <td>42.044800</td>\n",
       "      <td>97.250000</td>\n",
       "      <td>34.000021</td>\n",
       "      <td>3410.000000</td>\n",
       "      <td>6946.000000</td>\n",
       "      <td>8714.000000</td>\n",
       "    </tr>\n",
       "  </tbody>\n",
       "</table>\n",
       "</div>"
      ],
      "text/plain": [
       "          instant      season          yr        mnth     holiday     weekday  \\\n",
       "count  730.000000  730.000000  730.000000  730.000000  730.000000  730.000000   \n",
       "mean   365.500000    2.498630    0.500000    6.526027    0.028767    2.997260   \n",
       "std    210.877136    1.110184    0.500343    3.450215    0.167266    2.006161   \n",
       "min      1.000000    1.000000    0.000000    1.000000    0.000000    0.000000   \n",
       "25%    183.250000    2.000000    0.000000    4.000000    0.000000    1.000000   \n",
       "50%    365.500000    3.000000    0.500000    7.000000    0.000000    3.000000   \n",
       "75%    547.750000    3.000000    1.000000   10.000000    0.000000    5.000000   \n",
       "max    730.000000    4.000000    1.000000   12.000000    1.000000    6.000000   \n",
       "\n",
       "       workingday  weathersit        temp       atemp         hum   windspeed  \\\n",
       "count  730.000000  730.000000  730.000000  730.000000  730.000000  730.000000   \n",
       "mean     0.683562    1.394521   20.319259   23.726322   62.765175   12.763620   \n",
       "std      0.465405    0.544807    7.506729    8.150308   14.237589    5.195841   \n",
       "min      0.000000    1.000000    2.424346    3.953480    0.000000    1.500244   \n",
       "25%      0.000000    1.000000   13.811885   16.889713   52.000000    9.041650   \n",
       "50%      1.000000    1.000000   20.465826   24.368225   62.625000   12.125325   \n",
       "75%      1.000000    2.000000   26.880615   30.445775   72.989575   15.625589   \n",
       "max      1.000000    3.000000   35.328347   42.044800   97.250000   34.000021   \n",
       "\n",
       "            casual   registered          cnt  \n",
       "count   730.000000   730.000000   730.000000  \n",
       "mean    849.249315  3658.757534  4508.006849  \n",
       "std     686.479875  1559.758728  1936.011647  \n",
       "min       2.000000    20.000000    22.000000  \n",
       "25%     316.250000  2502.250000  3169.750000  \n",
       "50%     717.000000  3664.500000  4548.500000  \n",
       "75%    1096.500000  4783.250000  5966.000000  \n",
       "max    3410.000000  6946.000000  8714.000000  "
      ]
     },
     "execution_count": 6,
     "metadata": {},
     "output_type": "execute_result"
    }
   ],
   "source": [
    "# Checking the Statistical informations of the dataset.\n",
    "df.describe()"
   ]
  },
  {
   "cell_type": "markdown",
   "metadata": {},
   "source": [
    "# Cleaning Data"
   ]
  },
  {
   "cell_type": "markdown",
   "metadata": {
    "id": "MBB_LQispLOa"
   },
   "source": [
    "## **Drop those columns who are of no use for analysis**"
   ]
  },
  {
   "cell_type": "markdown",
   "metadata": {},
   "source": [
    "- `instant` is just a row instance identifier.\n",
    "- `dteday` is removed as we have some of date features like `mnth` and `year` and `weekday` already in other columns and also \n",
    "for this analysis we will not consider day to day trend in demand for bikes.\n",
    "- `casual` and `registered` variables are not available at the time of prediction and also these describe the target variable \n",
    "`cnt` in a very trivial way `target = casual + registered`, which leads to data leakage."
   ]
  },
  {
   "cell_type": "code",
   "execution_count": 7,
   "metadata": {
    "id": "UQO7J61FPL2h"
   },
   "outputs": [],
   "source": [
    "# Creating a list to drop no use columns at onces\n",
    "dropping_cols = ['instant','dteday','casual','registered']\n",
    "df.drop(dropping_cols, axis=1, inplace=True)"
   ]
  },
  {
   "cell_type": "markdown",
   "metadata": {
    "id": "Z7Ly8KbzsOAZ"
   },
   "source": [
    "#### Dropping casual column and registered column because it is given in problem statement that 'cnt' column is the combined of both the columns"
   ]
  },
  {
   "cell_type": "code",
   "execution_count": 8,
   "metadata": {
    "colab": {
     "base_uri": "https://localhost:8080/",
     "height": 424
    },
    "id": "YtgQd6ICov-v",
    "outputId": "edf5c230-9147-49c8-9941-af9e7fc76a13"
   },
   "outputs": [
    {
     "data": {
      "text/html": [
       "<div>\n",
       "<style scoped>\n",
       "    .dataframe tbody tr th:only-of-type {\n",
       "        vertical-align: middle;\n",
       "    }\n",
       "\n",
       "    .dataframe tbody tr th {\n",
       "        vertical-align: top;\n",
       "    }\n",
       "\n",
       "    .dataframe thead th {\n",
       "        text-align: right;\n",
       "    }\n",
       "</style>\n",
       "<table border=\"1\" class=\"dataframe\">\n",
       "  <thead>\n",
       "    <tr style=\"text-align: right;\">\n",
       "      <th></th>\n",
       "      <th>season</th>\n",
       "      <th>yr</th>\n",
       "      <th>mnth</th>\n",
       "      <th>holiday</th>\n",
       "      <th>weekday</th>\n",
       "      <th>workingday</th>\n",
       "      <th>weathersit</th>\n",
       "      <th>temp</th>\n",
       "      <th>atemp</th>\n",
       "      <th>hum</th>\n",
       "      <th>windspeed</th>\n",
       "      <th>cnt</th>\n",
       "    </tr>\n",
       "  </thead>\n",
       "  <tbody>\n",
       "    <tr>\n",
       "      <th>0</th>\n",
       "      <td>1</td>\n",
       "      <td>0</td>\n",
       "      <td>1</td>\n",
       "      <td>0</td>\n",
       "      <td>6</td>\n",
       "      <td>0</td>\n",
       "      <td>2</td>\n",
       "      <td>14.110847</td>\n",
       "      <td>18.18125</td>\n",
       "      <td>80.5833</td>\n",
       "      <td>10.749882</td>\n",
       "      <td>985</td>\n",
       "    </tr>\n",
       "    <tr>\n",
       "      <th>1</th>\n",
       "      <td>1</td>\n",
       "      <td>0</td>\n",
       "      <td>1</td>\n",
       "      <td>0</td>\n",
       "      <td>0</td>\n",
       "      <td>0</td>\n",
       "      <td>2</td>\n",
       "      <td>14.902598</td>\n",
       "      <td>17.68695</td>\n",
       "      <td>69.6087</td>\n",
       "      <td>16.652113</td>\n",
       "      <td>801</td>\n",
       "    </tr>\n",
       "    <tr>\n",
       "      <th>2</th>\n",
       "      <td>1</td>\n",
       "      <td>0</td>\n",
       "      <td>1</td>\n",
       "      <td>0</td>\n",
       "      <td>1</td>\n",
       "      <td>1</td>\n",
       "      <td>1</td>\n",
       "      <td>8.050924</td>\n",
       "      <td>9.47025</td>\n",
       "      <td>43.7273</td>\n",
       "      <td>16.636703</td>\n",
       "      <td>1349</td>\n",
       "    </tr>\n",
       "    <tr>\n",
       "      <th>3</th>\n",
       "      <td>1</td>\n",
       "      <td>0</td>\n",
       "      <td>1</td>\n",
       "      <td>0</td>\n",
       "      <td>2</td>\n",
       "      <td>1</td>\n",
       "      <td>1</td>\n",
       "      <td>8.200000</td>\n",
       "      <td>10.60610</td>\n",
       "      <td>59.0435</td>\n",
       "      <td>10.739832</td>\n",
       "      <td>1562</td>\n",
       "    </tr>\n",
       "    <tr>\n",
       "      <th>4</th>\n",
       "      <td>1</td>\n",
       "      <td>0</td>\n",
       "      <td>1</td>\n",
       "      <td>0</td>\n",
       "      <td>3</td>\n",
       "      <td>1</td>\n",
       "      <td>1</td>\n",
       "      <td>9.305237</td>\n",
       "      <td>11.46350</td>\n",
       "      <td>43.6957</td>\n",
       "      <td>12.522300</td>\n",
       "      <td>1600</td>\n",
       "    </tr>\n",
       "    <tr>\n",
       "      <th>...</th>\n",
       "      <td>...</td>\n",
       "      <td>...</td>\n",
       "      <td>...</td>\n",
       "      <td>...</td>\n",
       "      <td>...</td>\n",
       "      <td>...</td>\n",
       "      <td>...</td>\n",
       "      <td>...</td>\n",
       "      <td>...</td>\n",
       "      <td>...</td>\n",
       "      <td>...</td>\n",
       "      <td>...</td>\n",
       "    </tr>\n",
       "    <tr>\n",
       "      <th>725</th>\n",
       "      <td>1</td>\n",
       "      <td>1</td>\n",
       "      <td>12</td>\n",
       "      <td>0</td>\n",
       "      <td>4</td>\n",
       "      <td>1</td>\n",
       "      <td>2</td>\n",
       "      <td>10.420847</td>\n",
       "      <td>11.33210</td>\n",
       "      <td>65.2917</td>\n",
       "      <td>23.458911</td>\n",
       "      <td>2114</td>\n",
       "    </tr>\n",
       "    <tr>\n",
       "      <th>726</th>\n",
       "      <td>1</td>\n",
       "      <td>1</td>\n",
       "      <td>12</td>\n",
       "      <td>0</td>\n",
       "      <td>5</td>\n",
       "      <td>1</td>\n",
       "      <td>2</td>\n",
       "      <td>10.386653</td>\n",
       "      <td>12.75230</td>\n",
       "      <td>59.0000</td>\n",
       "      <td>10.416557</td>\n",
       "      <td>3095</td>\n",
       "    </tr>\n",
       "    <tr>\n",
       "      <th>727</th>\n",
       "      <td>1</td>\n",
       "      <td>1</td>\n",
       "      <td>12</td>\n",
       "      <td>0</td>\n",
       "      <td>6</td>\n",
       "      <td>0</td>\n",
       "      <td>2</td>\n",
       "      <td>10.386653</td>\n",
       "      <td>12.12000</td>\n",
       "      <td>75.2917</td>\n",
       "      <td>8.333661</td>\n",
       "      <td>1341</td>\n",
       "    </tr>\n",
       "    <tr>\n",
       "      <th>728</th>\n",
       "      <td>1</td>\n",
       "      <td>1</td>\n",
       "      <td>12</td>\n",
       "      <td>0</td>\n",
       "      <td>0</td>\n",
       "      <td>0</td>\n",
       "      <td>1</td>\n",
       "      <td>10.489153</td>\n",
       "      <td>11.58500</td>\n",
       "      <td>48.3333</td>\n",
       "      <td>23.500518</td>\n",
       "      <td>1796</td>\n",
       "    </tr>\n",
       "    <tr>\n",
       "      <th>729</th>\n",
       "      <td>1</td>\n",
       "      <td>1</td>\n",
       "      <td>12</td>\n",
       "      <td>0</td>\n",
       "      <td>1</td>\n",
       "      <td>1</td>\n",
       "      <td>2</td>\n",
       "      <td>8.849153</td>\n",
       "      <td>11.17435</td>\n",
       "      <td>57.7500</td>\n",
       "      <td>10.374682</td>\n",
       "      <td>2729</td>\n",
       "    </tr>\n",
       "  </tbody>\n",
       "</table>\n",
       "<p>730 rows × 12 columns</p>\n",
       "</div>"
      ],
      "text/plain": [
       "     season  yr  mnth  holiday  weekday  workingday  weathersit       temp  \\\n",
       "0         1   0     1        0        6           0           2  14.110847   \n",
       "1         1   0     1        0        0           0           2  14.902598   \n",
       "2         1   0     1        0        1           1           1   8.050924   \n",
       "3         1   0     1        0        2           1           1   8.200000   \n",
       "4         1   0     1        0        3           1           1   9.305237   \n",
       "..      ...  ..   ...      ...      ...         ...         ...        ...   \n",
       "725       1   1    12        0        4           1           2  10.420847   \n",
       "726       1   1    12        0        5           1           2  10.386653   \n",
       "727       1   1    12        0        6           0           2  10.386653   \n",
       "728       1   1    12        0        0           0           1  10.489153   \n",
       "729       1   1    12        0        1           1           2   8.849153   \n",
       "\n",
       "        atemp      hum  windspeed   cnt  \n",
       "0    18.18125  80.5833  10.749882   985  \n",
       "1    17.68695  69.6087  16.652113   801  \n",
       "2     9.47025  43.7273  16.636703  1349  \n",
       "3    10.60610  59.0435  10.739832  1562  \n",
       "4    11.46350  43.6957  12.522300  1600  \n",
       "..        ...      ...        ...   ...  \n",
       "725  11.33210  65.2917  23.458911  2114  \n",
       "726  12.75230  59.0000  10.416557  3095  \n",
       "727  12.12000  75.2917   8.333661  1341  \n",
       "728  11.58500  48.3333  23.500518  1796  \n",
       "729  11.17435  57.7500  10.374682  2729  \n",
       "\n",
       "[730 rows x 12 columns]"
      ]
     },
     "execution_count": 8,
     "metadata": {},
     "output_type": "execute_result"
    }
   ],
   "source": [
    "# Checking Data after dropping columns\n",
    "df"
   ]
  },
  {
   "cell_type": "code",
   "execution_count": 9,
   "metadata": {
    "colab": {
     "base_uri": "https://localhost:8080/"
    },
    "id": "yEyMKZPIptk3",
    "outputId": "4cc27c1c-50b8-46c9-c053-f2481c6c9692"
   },
   "outputs": [
    {
     "data": {
      "text/plain": [
       "season        0.0\n",
       "yr            0.0\n",
       "mnth          0.0\n",
       "holiday       0.0\n",
       "weekday       0.0\n",
       "workingday    0.0\n",
       "weathersit    0.0\n",
       "temp          0.0\n",
       "atemp         0.0\n",
       "hum           0.0\n",
       "windspeed     0.0\n",
       "cnt           0.0\n",
       "dtype: float64"
      ]
     },
     "execution_count": 9,
     "metadata": {},
     "output_type": "execute_result"
    }
   ],
   "source": [
    "# Checking proportion of missing values in each column\n",
    "df.isnull().mean()"
   ]
  },
  {
   "cell_type": "code",
   "execution_count": 10,
   "metadata": {
    "colab": {
     "base_uri": "https://localhost:8080/"
    },
    "id": "m4mUAmT2qO1C",
    "outputId": "85ce43c1-7c32-4de2-c89c-6537cb4bb3c0"
   },
   "outputs": [
    {
     "data": {
      "text/plain": [
       "season          4\n",
       "yr              2\n",
       "mnth           12\n",
       "holiday         2\n",
       "weekday         7\n",
       "workingday      2\n",
       "weathersit      3\n",
       "temp          498\n",
       "atemp         689\n",
       "hum           594\n",
       "windspeed     649\n",
       "cnt           695\n",
       "dtype: int64"
      ]
     },
     "execution_count": 10,
     "metadata": {},
     "output_type": "execute_result"
    }
   ],
   "source": [
    "# Calulating number of unique values in each column\n",
    "df.nunique()"
   ]
  },
  {
   "cell_type": "code",
   "execution_count": 11,
   "metadata": {
    "colab": {
     "base_uri": "https://localhost:8080/"
    },
    "id": "W5L9Z7PGqRkh",
    "outputId": "1f484266-1170-4d2f-9416-c2199aedaf30"
   },
   "outputs": [
    {
     "data": {
      "text/plain": [
       "12"
      ]
     },
     "execution_count": 11,
     "metadata": {},
     "output_type": "execute_result"
    }
   ],
   "source": [
    "# Creating list for categorical, continuous and target column.\n",
    "cat_cols = ['season','yr','mnth','holiday','weekday','workingday','weathersit']\n",
    "cont_cols = ['temp','atemp','hum','windspeed']\n",
    "target = ['cnt']\n",
    "len(cat_cols)+len(cont_cols)+len(target)"
   ]
  },
  {
   "cell_type": "markdown",
   "metadata": {
    "id": "TlMVgpgmteas"
   },
   "source": [
    "## **Uniariate Analysis**"
   ]
  },
  {
   "cell_type": "code",
   "execution_count": 12,
   "metadata": {
    "colab": {
     "base_uri": "https://localhost:8080/",
     "height": 1000
    },
    "id": "BRbs_YN5sHv7",
    "outputId": "04652ac9-ce6c-4988-c579-291b4dd9ec56",
    "scrolled": false
   },
   "outputs": [
    {
     "data": {
      "image/png": "[encoded data removed]",
      "text/plain": [
       "<Figure size 1600x1000 with 4 Axes>"
      ]
     },
     "metadata": {},
     "output_type": "display_data"
    }
   ],
   "source": [
    "# Print continuous columns graph using countplot\n",
    "fig, axs = plt.subplots(len(cont_cols) // 2, 2, figsize=(16, 10))\n",
    "for i in range(len(cont_cols) // 2):\n",
    "    for j in range(2):\n",
    "        index = 2 * i + j\n",
    "        sns.histplot(df[cont_cols[index]], ax=axs[i][j])\n",
    "plt.show()\n"
   ]
  },
  {
   "cell_type": "markdown",
   "metadata": {},
   "source": [
    "### _Insights_:\n",
    "- According to 'windspeed' people would prefer to travel while windspeed is between 8 to 16 after, that the rented bike graph goes down\n",
    "- On the basis 'hum' column customer rented bike when humidity is higher than 70\n",
    "- According to 'temp' graph people prefer to rented bike when temprature is moderate either extreme low nor extreme high\n",
    "- Based on above insights we can conclude that climate directly control shared bike business."
   ]
  },
  {
   "cell_type": "code",
   "execution_count": 13,
   "metadata": {
    "colab": {
     "base_uri": "https://localhost:8080/",
     "height": 1000
    },
    "id": "3rEzSfK6uEli",
    "outputId": "c355b82a-62e9-4046-8f28-1880a63c903b",
    "scrolled": false
   },
   "outputs": [
    {
     "data": {
      "image/png": "[encoded data removed]",
      "text/plain": [
       "<Figure size 1600x1000 with 6 Axes>"
      ]
     },
     "metadata": {},
     "output_type": "display_data"
    }
   ],
   "source": [
    "# Print countplot graph for categorical columns\n",
    "fig, axs = plt.subplots(len(cat_cols) // 2, 2, figsize=(16, 10))\n",
    "for i in range(len(cat_cols) // 2):\n",
    "    for j in range(2):\n",
    "        index = 2 * i + j\n",
    "        sns.countplot(x=cat_cols[index], data=df, ax=axs[i][j])\n",
    "plt.show()\n"
   ]
  },
  {
   "cell_type": "code",
   "execution_count": null,
   "metadata": {},
   "outputs": [],
   "source": []
  },
  {
   "cell_type": "markdown",
   "metadata": {
    "id": "IpldxxTaxBxl"
   },
   "source": [
    "## **Biavariate Analysis**"
   ]
  },
  {
   "cell_type": "code",
   "execution_count": 14,
   "metadata": {
    "colab": {
     "base_uri": "https://localhost:8080/",
     "height": 1000
    },
    "id": "05Ajscijxl0Q",
    "outputId": "113885a5-227d-478b-f897-867f00c58a30",
    "scrolled": false
   },
   "outputs": [
    {
     "data": {
      "image/png": "[encoded data removed]",
      "text/plain": [
       "<Figure size 1500x1500 with 7 Axes>"
      ]
     },
     "metadata": {},
     "output_type": "display_data"
    }
   ],
   "source": [
    "# Boxplot for categorical column\n",
    "cat_cols = ['season','yr','mnth','holiday','weekday','workingday','weathersit']\n",
    "plt.figure(figsize=(15, 15))\n",
    "for i in enumerate(cat_cols):\n",
    "    plt.subplot(3,3,i[0]+1)\n",
    "    sns.boxplot(data=df, x=i[1], y='cnt')\n",
    "plt.show()"
   ]
  },
  {
   "cell_type": "markdown",
   "metadata": {},
   "source": [
    "#### _`Inference`_:\n",
    "    Here are few insights we drawn from the plots\n",
    "\n",
    "    1. Fall is the most popular season to hire bikes.\n",
    "    2. I've noticed an increase in demand for next year.\n",
    "    3. Demand is increasing month after month until mnth_6. The month of saeson_9 has the biggest demand. Demand begins to \n",
    "    fall after saeson_9.\n",
    "    4. When there is a holiday, demand falls.\n",
    "    5. The weekday does not provide a clear picture of demand.\n",
    "    6. The clear weathershit is in high demand.\n",
    "    7. Bike sharing is more popular in season_9. It is lower at both the beginning and the end of the year, which can be           related to bad weather."
   ]
  },
  {
   "cell_type": "code",
   "execution_count": 15,
   "metadata": {},
   "outputs": [
    {
     "data": {
      "image/png": "[encoded data removed]",
      "text/plain": [
       "<Figure size 1800x400 with 4 Axes>"
      ]
     },
     "metadata": {},
     "output_type": "display_data"
    }
   ],
   "source": [
    "# Draw box plots for indepent variables with continuous values\n",
    "cols = ['temp', 'atemp', 'hum', 'windspeed']\n",
    "plt.figure(figsize=(18,4))\n",
    "\n",
    "i = 1\n",
    "for col in cols:\n",
    "    plt.subplot(1,4,i)\n",
    "    sns.boxplot(y=col, data=df)\n",
    "    i+=1"
   ]
  },
  {
   "cell_type": "markdown",
   "metadata": {},
   "source": [
    "#### From these plots, we can see there are no outliers to be handled. We are good with not having any outliers in the data set"
   ]
  },
  {
   "cell_type": "markdown",
   "metadata": {
    "id": "fE4yLu92yhGv"
   },
   "source": [
    "## Multivariate Analysis"
   ]
  },
  {
   "cell_type": "code",
   "execution_count": 16,
   "metadata": {
    "id": "AmtASJbk7j1i"
   },
   "outputs": [],
   "source": [
    "# create new dataframe with only continuous columns\n",
    "cont_df = df[cont_cols]"
   ]
  },
  {
   "cell_type": "code",
   "execution_count": 17,
   "metadata": {
    "colab": {
     "base_uri": "https://localhost:8080/",
     "height": 1000
    },
    "id": "GS0USI-eyptX",
    "outputId": "dbd8b92a-15eb-4840-be6a-f916636fefa0"
   },
   "outputs": [
    {
     "data": {
      "image/png": "[encoded data removed]",
      "text/plain": [
       "<Figure size 1000x1000 with 20 Axes>"
      ]
     },
     "metadata": {},
     "output_type": "display_data"
    }
   ],
   "source": [
    "# plot pairplot\n",
    "sns.pairplot(cont_df)\n",
    "plt.show()"
   ]
  },
  {
   "cell_type": "code",
   "execution_count": 18,
   "metadata": {
    "colab": {
     "base_uri": "https://localhost:8080/",
     "height": 468
    },
    "id": "c5b58343",
    "outputId": "c8ca0765-fd63-42a2-b7c2-3c9beb6ad1db"
   },
   "outputs": [
    {
     "data": {
      "text/plain": [
       "<AxesSubplot:>"
      ]
     },
     "execution_count": 18,
     "metadata": {},
     "output_type": "execute_result"
    },
    {
     "data": {
      "image/png": "[encoded data removed]",
      "text/plain": [
       "<Figure size 800x500 with 2 Axes>"
      ]
     },
     "metadata": {},
     "output_type": "display_data"
    }
   ],
   "source": [
    "# Checking continuous variables relationship with each other\n",
    "plt.figure(figsize=(8,5))\n",
    "sns.heatmap(df[cont_cols+[\"cnt\"]].corr(), cmap='BuGn',annot=True)"
   ]
  },
  {
   "cell_type": "markdown",
   "metadata": {},
   "source": [
    "## Based on above heatmap we can conclude that:\n",
    "    1. 'temp' is highly corelated to 'atemp' (already mention in problem statemenyt)\n",
    "    2. 'cnt' is 63% correlated with 'temp' and 'atemp'"
   ]
  },
  {
   "cell_type": "markdown",
   "metadata": {
    "id": "91385af7"
   },
   "source": [
    "# **Pre - Processing Steps**"
   ]
  },
  {
   "cell_type": "markdown",
   "metadata": {
    "id": "87be2001"
   },
   "source": [
    "### **Dummy Variable Creation**\n",
    "\n"
   ]
  },
  {
   "cell_type": "code",
   "execution_count": 19,
   "metadata": {
    "colab": {
     "base_uri": "https://localhost:8080/"
    },
    "id": "9wbB9xpA-W0s",
    "outputId": "c56d04b7-82e5-47b8-e382-64e72332a99b"
   },
   "outputs": [
    {
     "data": {
      "text/plain": [
       "season         4\n",
       "yr             2\n",
       "mnth          12\n",
       "holiday        2\n",
       "weekday        7\n",
       "workingday     2\n",
       "weathersit     3\n",
       "dtype: int64"
      ]
     },
     "execution_count": 19,
     "metadata": {},
     "output_type": "execute_result"
    }
   ],
   "source": [
    "# Checking no. of unique values of categorical columns\n",
    "df[cat_cols].nunique()# Only for non binary categorical columns"
   ]
  },
  {
   "cell_type": "code",
   "execution_count": 20,
   "metadata": {
    "colab": {
     "base_uri": "https://localhost:8080/",
     "height": 206
    },
    "id": "6d91fac6",
    "outputId": "5f364e67-c150-4e64-f868-fb1350882a3d"
   },
   "outputs": [
    {
     "data": {
      "text/html": [
       "<div>\n",
       "<style scoped>\n",
       "    .dataframe tbody tr th:only-of-type {\n",
       "        vertical-align: middle;\n",
       "    }\n",
       "\n",
       "    .dataframe tbody tr th {\n",
       "        vertical-align: top;\n",
       "    }\n",
       "\n",
       "    .dataframe thead th {\n",
       "        text-align: right;\n",
       "    }\n",
       "</style>\n",
       "<table border=\"1\" class=\"dataframe\">\n",
       "  <thead>\n",
       "    <tr style=\"text-align: right;\">\n",
       "      <th></th>\n",
       "      <th>season_2</th>\n",
       "      <th>season_3</th>\n",
       "      <th>season_4</th>\n",
       "    </tr>\n",
       "  </thead>\n",
       "  <tbody>\n",
       "    <tr>\n",
       "      <th>0</th>\n",
       "      <td>0</td>\n",
       "      <td>0</td>\n",
       "      <td>0</td>\n",
       "    </tr>\n",
       "    <tr>\n",
       "      <th>1</th>\n",
       "      <td>0</td>\n",
       "      <td>0</td>\n",
       "      <td>0</td>\n",
       "    </tr>\n",
       "    <tr>\n",
       "      <th>2</th>\n",
       "      <td>0</td>\n",
       "      <td>0</td>\n",
       "      <td>0</td>\n",
       "    </tr>\n",
       "    <tr>\n",
       "      <th>3</th>\n",
       "      <td>0</td>\n",
       "      <td>0</td>\n",
       "      <td>0</td>\n",
       "    </tr>\n",
       "    <tr>\n",
       "      <th>4</th>\n",
       "      <td>0</td>\n",
       "      <td>0</td>\n",
       "      <td>0</td>\n",
       "    </tr>\n",
       "  </tbody>\n",
       "</table>\n",
       "</div>"
      ],
      "text/plain": [
       "   season_2  season_3  season_4\n",
       "0         0         0         0\n",
       "1         0         0         0\n",
       "2         0         0         0\n",
       "3         0         0         0\n",
       "4         0         0         0"
      ]
     },
     "execution_count": 20,
     "metadata": {},
     "output_type": "execute_result"
    }
   ],
   "source": [
    "# Creating dummy variable for 'season' column and drop first column\n",
    "season_dum = pd.get_dummies(df[\"season\"], prefix=\"season\", drop_first=True)\n",
    "season_dum.head()"
   ]
  },
  {
   "cell_type": "code",
   "execution_count": 21,
   "metadata": {
    "colab": {
     "base_uri": "https://localhost:8080/",
     "height": 206
    },
    "id": "1UNefLSpwATs",
    "outputId": "fd966c58-23e6-4553-9d2a-288d5ff72831"
   },
   "outputs": [
    {
     "data": {
      "text/html": [
       "<div>\n",
       "<style scoped>\n",
       "    .dataframe tbody tr th:only-of-type {\n",
       "        vertical-align: middle;\n",
       "    }\n",
       "\n",
       "    .dataframe tbody tr th {\n",
       "        vertical-align: top;\n",
       "    }\n",
       "\n",
       "    .dataframe thead th {\n",
       "        text-align: right;\n",
       "    }\n",
       "</style>\n",
       "<table border=\"1\" class=\"dataframe\">\n",
       "  <thead>\n",
       "    <tr style=\"text-align: right;\">\n",
       "      <th></th>\n",
       "      <th>mnth_2</th>\n",
       "      <th>mnth_3</th>\n",
       "      <th>mnth_4</th>\n",
       "      <th>mnth_5</th>\n",
       "      <th>mnth_6</th>\n",
       "      <th>mnth_7</th>\n",
       "      <th>mnth_8</th>\n",
       "      <th>mnth_9</th>\n",
       "      <th>mnth_10</th>\n",
       "      <th>mnth_11</th>\n",
       "      <th>mnth_12</th>\n",
       "    </tr>\n",
       "  </thead>\n",
       "  <tbody>\n",
       "    <tr>\n",
       "      <th>0</th>\n",
       "      <td>0</td>\n",
       "      <td>0</td>\n",
       "      <td>0</td>\n",
       "      <td>0</td>\n",
       "      <td>0</td>\n",
       "      <td>0</td>\n",
       "      <td>0</td>\n",
       "      <td>0</td>\n",
       "      <td>0</td>\n",
       "      <td>0</td>\n",
       "      <td>0</td>\n",
       "    </tr>\n",
       "    <tr>\n",
       "      <th>1</th>\n",
       "      <td>0</td>\n",
       "      <td>0</td>\n",
       "      <td>0</td>\n",
       "      <td>0</td>\n",
       "      <td>0</td>\n",
       "      <td>0</td>\n",
       "      <td>0</td>\n",
       "      <td>0</td>\n",
       "      <td>0</td>\n",
       "      <td>0</td>\n",
       "      <td>0</td>\n",
       "    </tr>\n",
       "    <tr>\n",
       "      <th>2</th>\n",
       "      <td>0</td>\n",
       "      <td>0</td>\n",
       "      <td>0</td>\n",
       "      <td>0</td>\n",
       "      <td>0</td>\n",
       "      <td>0</td>\n",
       "      <td>0</td>\n",
       "      <td>0</td>\n",
       "      <td>0</td>\n",
       "      <td>0</td>\n",
       "      <td>0</td>\n",
       "    </tr>\n",
       "    <tr>\n",
       "      <th>3</th>\n",
       "      <td>0</td>\n",
       "      <td>0</td>\n",
       "      <td>0</td>\n",
       "      <td>0</td>\n",
       "      <td>0</td>\n",
       "      <td>0</td>\n",
       "      <td>0</td>\n",
       "      <td>0</td>\n",
       "      <td>0</td>\n",
       "      <td>0</td>\n",
       "      <td>0</td>\n",
       "    </tr>\n",
       "    <tr>\n",
       "      <th>4</th>\n",
       "      <td>0</td>\n",
       "      <td>0</td>\n",
       "      <td>0</td>\n",
       "      <td>0</td>\n",
       "      <td>0</td>\n",
       "      <td>0</td>\n",
       "      <td>0</td>\n",
       "      <td>0</td>\n",
       "      <td>0</td>\n",
       "      <td>0</td>\n",
       "      <td>0</td>\n",
       "    </tr>\n",
       "  </tbody>\n",
       "</table>\n",
       "</div>"
      ],
      "text/plain": [
       "   mnth_2  mnth_3  mnth_4  mnth_5  mnth_6  mnth_7  mnth_8  mnth_9  mnth_10  \\\n",
       "0       0       0       0       0       0       0       0       0        0   \n",
       "1       0       0       0       0       0       0       0       0        0   \n",
       "2       0       0       0       0       0       0       0       0        0   \n",
       "3       0       0       0       0       0       0       0       0        0   \n",
       "4       0       0       0       0       0       0       0       0        0   \n",
       "\n",
       "   mnth_11  mnth_12  \n",
       "0        0        0  \n",
       "1        0        0  \n",
       "2        0        0  \n",
       "3        0        0  \n",
       "4        0        0  "
      ]
     },
     "execution_count": 21,
     "metadata": {},
     "output_type": "execute_result"
    }
   ],
   "source": [
    "# Creating dummy variable for 'mnth' column and drop first column\n",
    "mnth_dum=pd.get_dummies(df[\"mnth\"], prefix=\"mnth\", drop_first=True)\n",
    "mnth_dum.head()"
   ]
  },
  {
   "cell_type": "code",
   "execution_count": 22,
   "metadata": {
    "colab": {
     "base_uri": "https://localhost:8080/",
     "height": 206
    },
    "id": "RxIg-CzlEzv4",
    "outputId": "3c0d64c2-cc93-4d2d-cdf1-219b5dfdba3e"
   },
   "outputs": [
    {
     "data": {
      "text/html": [
       "<div>\n",
       "<style scoped>\n",
       "    .dataframe tbody tr th:only-of-type {\n",
       "        vertical-align: middle;\n",
       "    }\n",
       "\n",
       "    .dataframe tbody tr th {\n",
       "        vertical-align: top;\n",
       "    }\n",
       "\n",
       "    .dataframe thead th {\n",
       "        text-align: right;\n",
       "    }\n",
       "</style>\n",
       "<table border=\"1\" class=\"dataframe\">\n",
       "  <thead>\n",
       "    <tr style=\"text-align: right;\">\n",
       "      <th></th>\n",
       "      <th>weekday_1</th>\n",
       "      <th>weekday_2</th>\n",
       "      <th>weekday_3</th>\n",
       "      <th>weekday_4</th>\n",
       "      <th>weekday_5</th>\n",
       "      <th>weekday_6</th>\n",
       "    </tr>\n",
       "  </thead>\n",
       "  <tbody>\n",
       "    <tr>\n",
       "      <th>0</th>\n",
       "      <td>0</td>\n",
       "      <td>0</td>\n",
       "      <td>0</td>\n",
       "      <td>0</td>\n",
       "      <td>0</td>\n",
       "      <td>1</td>\n",
       "    </tr>\n",
       "    <tr>\n",
       "      <th>1</th>\n",
       "      <td>0</td>\n",
       "      <td>0</td>\n",
       "      <td>0</td>\n",
       "      <td>0</td>\n",
       "      <td>0</td>\n",
       "      <td>0</td>\n",
       "    </tr>\n",
       "    <tr>\n",
       "      <th>2</th>\n",
       "      <td>1</td>\n",
       "      <td>0</td>\n",
       "      <td>0</td>\n",
       "      <td>0</td>\n",
       "      <td>0</td>\n",
       "      <td>0</td>\n",
       "    </tr>\n",
       "    <tr>\n",
       "      <th>3</th>\n",
       "      <td>0</td>\n",
       "      <td>1</td>\n",
       "      <td>0</td>\n",
       "      <td>0</td>\n",
       "      <td>0</td>\n",
       "      <td>0</td>\n",
       "    </tr>\n",
       "    <tr>\n",
       "      <th>4</th>\n",
       "      <td>0</td>\n",
       "      <td>0</td>\n",
       "      <td>1</td>\n",
       "      <td>0</td>\n",
       "      <td>0</td>\n",
       "      <td>0</td>\n",
       "    </tr>\n",
       "  </tbody>\n",
       "</table>\n",
       "</div>"
      ],
      "text/plain": [
       "   weekday_1  weekday_2  weekday_3  weekday_4  weekday_5  weekday_6\n",
       "0          0          0          0          0          0          1\n",
       "1          0          0          0          0          0          0\n",
       "2          1          0          0          0          0          0\n",
       "3          0          1          0          0          0          0\n",
       "4          0          0          1          0          0          0"
      ]
     },
     "execution_count": 22,
     "metadata": {},
     "output_type": "execute_result"
    }
   ],
   "source": [
    "# Creating dummy variable for 'weekday' column and drop first column\n",
    "weekday_dum=pd.get_dummies(df[\"weekday\"], prefix=\"weekday\", drop_first=True)\n",
    "weekday_dum.head()"
   ]
  },
  {
   "cell_type": "code",
   "execution_count": 23,
   "metadata": {
    "colab": {
     "base_uri": "https://localhost:8080/",
     "height": 206
    },
    "id": "B79CaT6_E2w4",
    "outputId": "fe0ac314-6e9f-4f6c-c6d3-27c2214da291"
   },
   "outputs": [
    {
     "data": {
      "text/html": [
       "<div>\n",
       "<style scoped>\n",
       "    .dataframe tbody tr th:only-of-type {\n",
       "        vertical-align: middle;\n",
       "    }\n",
       "\n",
       "    .dataframe tbody tr th {\n",
       "        vertical-align: top;\n",
       "    }\n",
       "\n",
       "    .dataframe thead th {\n",
       "        text-align: right;\n",
       "    }\n",
       "</style>\n",
       "<table border=\"1\" class=\"dataframe\">\n",
       "  <thead>\n",
       "    <tr style=\"text-align: right;\">\n",
       "      <th></th>\n",
       "      <th>weathersit_2</th>\n",
       "      <th>weathersit_3</th>\n",
       "    </tr>\n",
       "  </thead>\n",
       "  <tbody>\n",
       "    <tr>\n",
       "      <th>0</th>\n",
       "      <td>1</td>\n",
       "      <td>0</td>\n",
       "    </tr>\n",
       "    <tr>\n",
       "      <th>1</th>\n",
       "      <td>1</td>\n",
       "      <td>0</td>\n",
       "    </tr>\n",
       "    <tr>\n",
       "      <th>2</th>\n",
       "      <td>0</td>\n",
       "      <td>0</td>\n",
       "    </tr>\n",
       "    <tr>\n",
       "      <th>3</th>\n",
       "      <td>0</td>\n",
       "      <td>0</td>\n",
       "    </tr>\n",
       "    <tr>\n",
       "      <th>4</th>\n",
       "      <td>0</td>\n",
       "      <td>0</td>\n",
       "    </tr>\n",
       "  </tbody>\n",
       "</table>\n",
       "</div>"
      ],
      "text/plain": [
       "   weathersit_2  weathersit_3\n",
       "0             1             0\n",
       "1             1             0\n",
       "2             0             0\n",
       "3             0             0\n",
       "4             0             0"
      ]
     },
     "execution_count": 23,
     "metadata": {},
     "output_type": "execute_result"
    }
   ],
   "source": [
    "# Creating dummy variable for 'weathersit' column and drop first column\n",
    "weathersit_dum=pd.get_dummies(df[\"weathersit\"], prefix=\"weathersit\", drop_first=True)\n",
    "weathersit_dum.head()"
   ]
  },
  {
   "cell_type": "code",
   "execution_count": 24,
   "metadata": {
    "colab": {
     "base_uri": "https://localhost:8080/",
     "height": 300
    },
    "id": "qM0GDZ1SFlg0",
    "outputId": "228b5d2d-bbf7-4723-c0b8-bd7b00848c64"
   },
   "outputs": [
    {
     "data": {
      "text/html": [
       "<div>\n",
       "<style scoped>\n",
       "    .dataframe tbody tr th:only-of-type {\n",
       "        vertical-align: middle;\n",
       "    }\n",
       "\n",
       "    .dataframe tbody tr th {\n",
       "        vertical-align: top;\n",
       "    }\n",
       "\n",
       "    .dataframe thead th {\n",
       "        text-align: right;\n",
       "    }\n",
       "</style>\n",
       "<table border=\"1\" class=\"dataframe\">\n",
       "  <thead>\n",
       "    <tr style=\"text-align: right;\">\n",
       "      <th></th>\n",
       "      <th>season_2</th>\n",
       "      <th>season_3</th>\n",
       "      <th>season_4</th>\n",
       "      <th>mnth_2</th>\n",
       "      <th>mnth_3</th>\n",
       "      <th>mnth_4</th>\n",
       "      <th>mnth_5</th>\n",
       "      <th>mnth_6</th>\n",
       "      <th>mnth_7</th>\n",
       "      <th>mnth_8</th>\n",
       "      <th>...</th>\n",
       "      <th>mnth</th>\n",
       "      <th>holiday</th>\n",
       "      <th>weekday</th>\n",
       "      <th>workingday</th>\n",
       "      <th>weathersit</th>\n",
       "      <th>temp</th>\n",
       "      <th>atemp</th>\n",
       "      <th>hum</th>\n",
       "      <th>windspeed</th>\n",
       "      <th>cnt</th>\n",
       "    </tr>\n",
       "  </thead>\n",
       "  <tbody>\n",
       "    <tr>\n",
       "      <th>0</th>\n",
       "      <td>0</td>\n",
       "      <td>0</td>\n",
       "      <td>0</td>\n",
       "      <td>0</td>\n",
       "      <td>0</td>\n",
       "      <td>0</td>\n",
       "      <td>0</td>\n",
       "      <td>0</td>\n",
       "      <td>0</td>\n",
       "      <td>0</td>\n",
       "      <td>...</td>\n",
       "      <td>1</td>\n",
       "      <td>0</td>\n",
       "      <td>6</td>\n",
       "      <td>0</td>\n",
       "      <td>2</td>\n",
       "      <td>14.110847</td>\n",
       "      <td>18.18125</td>\n",
       "      <td>80.5833</td>\n",
       "      <td>10.749882</td>\n",
       "      <td>985</td>\n",
       "    </tr>\n",
       "    <tr>\n",
       "      <th>1</th>\n",
       "      <td>0</td>\n",
       "      <td>0</td>\n",
       "      <td>0</td>\n",
       "      <td>0</td>\n",
       "      <td>0</td>\n",
       "      <td>0</td>\n",
       "      <td>0</td>\n",
       "      <td>0</td>\n",
       "      <td>0</td>\n",
       "      <td>0</td>\n",
       "      <td>...</td>\n",
       "      <td>1</td>\n",
       "      <td>0</td>\n",
       "      <td>0</td>\n",
       "      <td>0</td>\n",
       "      <td>2</td>\n",
       "      <td>14.902598</td>\n",
       "      <td>17.68695</td>\n",
       "      <td>69.6087</td>\n",
       "      <td>16.652113</td>\n",
       "      <td>801</td>\n",
       "    </tr>\n",
       "    <tr>\n",
       "      <th>2</th>\n",
       "      <td>0</td>\n",
       "      <td>0</td>\n",
       "      <td>0</td>\n",
       "      <td>0</td>\n",
       "      <td>0</td>\n",
       "      <td>0</td>\n",
       "      <td>0</td>\n",
       "      <td>0</td>\n",
       "      <td>0</td>\n",
       "      <td>0</td>\n",
       "      <td>...</td>\n",
       "      <td>1</td>\n",
       "      <td>0</td>\n",
       "      <td>1</td>\n",
       "      <td>1</td>\n",
       "      <td>1</td>\n",
       "      <td>8.050924</td>\n",
       "      <td>9.47025</td>\n",
       "      <td>43.7273</td>\n",
       "      <td>16.636703</td>\n",
       "      <td>1349</td>\n",
       "    </tr>\n",
       "    <tr>\n",
       "      <th>3</th>\n",
       "      <td>0</td>\n",
       "      <td>0</td>\n",
       "      <td>0</td>\n",
       "      <td>0</td>\n",
       "      <td>0</td>\n",
       "      <td>0</td>\n",
       "      <td>0</td>\n",
       "      <td>0</td>\n",
       "      <td>0</td>\n",
       "      <td>0</td>\n",
       "      <td>...</td>\n",
       "      <td>1</td>\n",
       "      <td>0</td>\n",
       "      <td>2</td>\n",
       "      <td>1</td>\n",
       "      <td>1</td>\n",
       "      <td>8.200000</td>\n",
       "      <td>10.60610</td>\n",
       "      <td>59.0435</td>\n",
       "      <td>10.739832</td>\n",
       "      <td>1562</td>\n",
       "    </tr>\n",
       "    <tr>\n",
       "      <th>4</th>\n",
       "      <td>0</td>\n",
       "      <td>0</td>\n",
       "      <td>0</td>\n",
       "      <td>0</td>\n",
       "      <td>0</td>\n",
       "      <td>0</td>\n",
       "      <td>0</td>\n",
       "      <td>0</td>\n",
       "      <td>0</td>\n",
       "      <td>0</td>\n",
       "      <td>...</td>\n",
       "      <td>1</td>\n",
       "      <td>0</td>\n",
       "      <td>3</td>\n",
       "      <td>1</td>\n",
       "      <td>1</td>\n",
       "      <td>9.305237</td>\n",
       "      <td>11.46350</td>\n",
       "      <td>43.6957</td>\n",
       "      <td>12.522300</td>\n",
       "      <td>1600</td>\n",
       "    </tr>\n",
       "  </tbody>\n",
       "</table>\n",
       "<p>5 rows × 34 columns</p>\n",
       "</div>"
      ],
      "text/plain": [
       "   season_2  season_3  season_4  mnth_2  mnth_3  mnth_4  mnth_5  mnth_6  \\\n",
       "0         0         0         0       0       0       0       0       0   \n",
       "1         0         0         0       0       0       0       0       0   \n",
       "2         0         0         0       0       0       0       0       0   \n",
       "3         0         0         0       0       0       0       0       0   \n",
       "4         0         0         0       0       0       0       0       0   \n",
       "\n",
       "   mnth_7  mnth_8  ...  mnth  holiday  weekday  workingday  weathersit  \\\n",
       "0       0       0  ...     1        0        6           0           2   \n",
       "1       0       0  ...     1        0        0           0           2   \n",
       "2       0       0  ...     1        0        1           1           1   \n",
       "3       0       0  ...     1        0        2           1           1   \n",
       "4       0       0  ...     1        0        3           1           1   \n",
       "\n",
       "        temp     atemp      hum  windspeed   cnt  \n",
       "0  14.110847  18.18125  80.5833  10.749882   985  \n",
       "1  14.902598  17.68695  69.6087  16.652113   801  \n",
       "2   8.050924   9.47025  43.7273  16.636703  1349  \n",
       "3   8.200000  10.60610  59.0435  10.739832  1562  \n",
       "4   9.305237  11.46350  43.6957  12.522300  1600  \n",
       "\n",
       "[5 rows x 34 columns]"
      ]
     },
     "execution_count": 24,
     "metadata": {},
     "output_type": "execute_result"
    }
   ],
   "source": [
    "# Combining the result to the dataframe\n",
    "df1 = pd.concat([season_dum, mnth_dum, weekday_dum, weathersit_dum, df], axis=1)\n",
    "df1.head()"
   ]
  },
  {
   "cell_type": "code",
   "execution_count": 25,
   "metadata": {},
   "outputs": [
    {
     "data": {
      "text/plain": [
       "Index(['season_2', 'season_3', 'season_4', 'mnth_2', 'mnth_3', 'mnth_4',\n",
       "       'mnth_5', 'mnth_6', 'mnth_7', 'mnth_8', 'mnth_9', 'mnth_10', 'mnth_11',\n",
       "       'mnth_12', 'weekday_1', 'weekday_2', 'weekday_3', 'weekday_4',\n",
       "       'weekday_5', 'weekday_6', 'weathersit_2', 'weathersit_3', 'season',\n",
       "       'yr', 'mnth', 'holiday', 'weekday', 'workingday', 'weathersit', 'temp',\n",
       "       'atemp', 'hum', 'windspeed', 'cnt'],\n",
       "      dtype='object')"
      ]
     },
     "execution_count": 25,
     "metadata": {},
     "output_type": "execute_result"
    }
   ],
   "source": [
    "# Print columns after creating dummy variuables \n",
    "df1.columns"
   ]
  },
  {
   "cell_type": "code",
   "execution_count": 26,
   "metadata": {
    "id": "5OgW7-liGR9i"
   },
   "outputs": [],
   "source": [
    "# Check if the columns exist in the dataframe before dropping them\n",
    "cols_to_drop = ['season', 'mnth', 'weathersit', 'weekday']"
   ]
  },
  {
   "cell_type": "code",
   "execution_count": 27,
   "metadata": {
    "id": "tTdfT7ARGXln"
   },
   "outputs": [],
   "source": [
    "# Creating loop to drop columns\n",
    "existing_cols = [col for col in cols_to_drop if col in df.columns]\n",
    "df1.drop(existing_cols, axis=1, inplace=True)"
   ]
  },
  {
   "cell_type": "code",
   "execution_count": 28,
   "metadata": {
    "colab": {
     "base_uri": "https://localhost:8080/",
     "height": 300
    },
    "id": "bDON5wekGY6y",
    "outputId": "aa5e1c8f-3b2f-434e-e615-ba197d522244"
   },
   "outputs": [
    {
     "data": {
      "text/html": [
       "<div>\n",
       "<style scoped>\n",
       "    .dataframe tbody tr th:only-of-type {\n",
       "        vertical-align: middle;\n",
       "    }\n",
       "\n",
       "    .dataframe tbody tr th {\n",
       "        vertical-align: top;\n",
       "    }\n",
       "\n",
       "    .dataframe thead th {\n",
       "        text-align: right;\n",
       "    }\n",
       "</style>\n",
       "<table border=\"1\" class=\"dataframe\">\n",
       "  <thead>\n",
       "    <tr style=\"text-align: right;\">\n",
       "      <th></th>\n",
       "      <th>season_2</th>\n",
       "      <th>season_3</th>\n",
       "      <th>season_4</th>\n",
       "      <th>mnth_2</th>\n",
       "      <th>mnth_3</th>\n",
       "      <th>mnth_4</th>\n",
       "      <th>mnth_5</th>\n",
       "      <th>mnth_6</th>\n",
       "      <th>mnth_7</th>\n",
       "      <th>mnth_8</th>\n",
       "      <th>...</th>\n",
       "      <th>weathersit_2</th>\n",
       "      <th>weathersit_3</th>\n",
       "      <th>yr</th>\n",
       "      <th>holiday</th>\n",
       "      <th>workingday</th>\n",
       "      <th>temp</th>\n",
       "      <th>atemp</th>\n",
       "      <th>hum</th>\n",
       "      <th>windspeed</th>\n",
       "      <th>cnt</th>\n",
       "    </tr>\n",
       "  </thead>\n",
       "  <tbody>\n",
       "    <tr>\n",
       "      <th>0</th>\n",
       "      <td>0</td>\n",
       "      <td>0</td>\n",
       "      <td>0</td>\n",
       "      <td>0</td>\n",
       "      <td>0</td>\n",
       "      <td>0</td>\n",
       "      <td>0</td>\n",
       "      <td>0</td>\n",
       "      <td>0</td>\n",
       "      <td>0</td>\n",
       "      <td>...</td>\n",
       "      <td>1</td>\n",
       "      <td>0</td>\n",
       "      <td>0</td>\n",
       "      <td>0</td>\n",
       "      <td>0</td>\n",
       "      <td>14.110847</td>\n",
       "      <td>18.18125</td>\n",
       "      <td>80.5833</td>\n",
       "      <td>10.749882</td>\n",
       "      <td>985</td>\n",
       "    </tr>\n",
       "    <tr>\n",
       "      <th>1</th>\n",
       "      <td>0</td>\n",
       "      <td>0</td>\n",
       "      <td>0</td>\n",
       "      <td>0</td>\n",
       "      <td>0</td>\n",
       "      <td>0</td>\n",
       "      <td>0</td>\n",
       "      <td>0</td>\n",
       "      <td>0</td>\n",
       "      <td>0</td>\n",
       "      <td>...</td>\n",
       "      <td>1</td>\n",
       "      <td>0</td>\n",
       "      <td>0</td>\n",
       "      <td>0</td>\n",
       "      <td>0</td>\n",
       "      <td>14.902598</td>\n",
       "      <td>17.68695</td>\n",
       "      <td>69.6087</td>\n",
       "      <td>16.652113</td>\n",
       "      <td>801</td>\n",
       "    </tr>\n",
       "    <tr>\n",
       "      <th>2</th>\n",
       "      <td>0</td>\n",
       "      <td>0</td>\n",
       "      <td>0</td>\n",
       "      <td>0</td>\n",
       "      <td>0</td>\n",
       "      <td>0</td>\n",
       "      <td>0</td>\n",
       "      <td>0</td>\n",
       "      <td>0</td>\n",
       "      <td>0</td>\n",
       "      <td>...</td>\n",
       "      <td>0</td>\n",
       "      <td>0</td>\n",
       "      <td>0</td>\n",
       "      <td>0</td>\n",
       "      <td>1</td>\n",
       "      <td>8.050924</td>\n",
       "      <td>9.47025</td>\n",
       "      <td>43.7273</td>\n",
       "      <td>16.636703</td>\n",
       "      <td>1349</td>\n",
       "    </tr>\n",
       "    <tr>\n",
       "      <th>3</th>\n",
       "      <td>0</td>\n",
       "      <td>0</td>\n",
       "      <td>0</td>\n",
       "      <td>0</td>\n",
       "      <td>0</td>\n",
       "      <td>0</td>\n",
       "      <td>0</td>\n",
       "      <td>0</td>\n",
       "      <td>0</td>\n",
       "      <td>0</td>\n",
       "      <td>...</td>\n",
       "      <td>0</td>\n",
       "      <td>0</td>\n",
       "      <td>0</td>\n",
       "      <td>0</td>\n",
       "      <td>1</td>\n",
       "      <td>8.200000</td>\n",
       "      <td>10.60610</td>\n",
       "      <td>59.0435</td>\n",
       "      <td>10.739832</td>\n",
       "      <td>1562</td>\n",
       "    </tr>\n",
       "    <tr>\n",
       "      <th>4</th>\n",
       "      <td>0</td>\n",
       "      <td>0</td>\n",
       "      <td>0</td>\n",
       "      <td>0</td>\n",
       "      <td>0</td>\n",
       "      <td>0</td>\n",
       "      <td>0</td>\n",
       "      <td>0</td>\n",
       "      <td>0</td>\n",
       "      <td>0</td>\n",
       "      <td>...</td>\n",
       "      <td>0</td>\n",
       "      <td>0</td>\n",
       "      <td>0</td>\n",
       "      <td>0</td>\n",
       "      <td>1</td>\n",
       "      <td>9.305237</td>\n",
       "      <td>11.46350</td>\n",
       "      <td>43.6957</td>\n",
       "      <td>12.522300</td>\n",
       "      <td>1600</td>\n",
       "    </tr>\n",
       "  </tbody>\n",
       "</table>\n",
       "<p>5 rows × 30 columns</p>\n",
       "</div>"
      ],
      "text/plain": [
       "   season_2  season_3  season_4  mnth_2  mnth_3  mnth_4  mnth_5  mnth_6  \\\n",
       "0         0         0         0       0       0       0       0       0   \n",
       "1         0         0         0       0       0       0       0       0   \n",
       "2         0         0         0       0       0       0       0       0   \n",
       "3         0         0         0       0       0       0       0       0   \n",
       "4         0         0         0       0       0       0       0       0   \n",
       "\n",
       "   mnth_7  mnth_8  ...  weathersit_2  weathersit_3  yr  holiday  workingday  \\\n",
       "0       0       0  ...             1             0   0        0           0   \n",
       "1       0       0  ...             1             0   0        0           0   \n",
       "2       0       0  ...             0             0   0        0           1   \n",
       "3       0       0  ...             0             0   0        0           1   \n",
       "4       0       0  ...             0             0   0        0           1   \n",
       "\n",
       "        temp     atemp      hum  windspeed   cnt  \n",
       "0  14.110847  18.18125  80.5833  10.749882   985  \n",
       "1  14.902598  17.68695  69.6087  16.652113   801  \n",
       "2   8.050924   9.47025  43.7273  16.636703  1349  \n",
       "3   8.200000  10.60610  59.0435  10.739832  1562  \n",
       "4   9.305237  11.46350  43.6957  12.522300  1600  \n",
       "\n",
       "[5 rows x 30 columns]"
      ]
     },
     "execution_count": 28,
     "metadata": {},
     "output_type": "execute_result"
    }
   ],
   "source": [
    "# Again reading data\n",
    "df1.head()"
   ]
  },
  {
   "cell_type": "code",
   "execution_count": 29,
   "metadata": {
    "colab": {
     "base_uri": "https://localhost:8080/"
    },
    "id": "V_rXBJ9RGwFX",
    "outputId": "2c78a7c7-e858-4ed3-a381-b82ad1152ec7"
   },
   "outputs": [
    {
     "name": "stdout",
     "output_type": "stream",
     "text": [
      "<class 'pandas.core.frame.DataFrame'>\n",
      "RangeIndex: 730 entries, 0 to 729\n",
      "Data columns (total 30 columns):\n",
      " #   Column        Non-Null Count  Dtype  \n",
      "---  ------        --------------  -----  \n",
      " 0   season_2      730 non-null    uint8  \n",
      " 1   season_3      730 non-null    uint8  \n",
      " 2   season_4      730 non-null    uint8  \n",
      " 3   mnth_2        730 non-null    uint8  \n",
      " 4   mnth_3        730 non-null    uint8  \n",
      " 5   mnth_4        730 non-null    uint8  \n",
      " 6   mnth_5        730 non-null    uint8  \n",
      " 7   mnth_6        730 non-null    uint8  \n",
      " 8   mnth_7        730 non-null    uint8  \n",
      " 9   mnth_8        730 non-null    uint8  \n",
      " 10  mnth_9        730 non-null    uint8  \n",
      " 11  mnth_10       730 non-null    uint8  \n",
      " 12  mnth_11       730 non-null    uint8  \n",
      " 13  mnth_12       730 non-null    uint8  \n",
      " 14  weekday_1     730 non-null    uint8  \n",
      " 15  weekday_2     730 non-null    uint8  \n",
      " 16  weekday_3     730 non-null    uint8  \n",
      " 17  weekday_4     730 non-null    uint8  \n",
      " 18  weekday_5     730 non-null    uint8  \n",
      " 19  weekday_6     730 non-null    uint8  \n",
      " 20  weathersit_2  730 non-null    uint8  \n",
      " 21  weathersit_3  730 non-null    uint8  \n",
      " 22  yr            730 non-null    int64  \n",
      " 23  holiday       730 non-null    int64  \n",
      " 24  workingday    730 non-null    int64  \n",
      " 25  temp          730 non-null    float64\n",
      " 26  atemp         730 non-null    float64\n",
      " 27  hum           730 non-null    float64\n",
      " 28  windspeed     730 non-null    float64\n",
      " 29  cnt           730 non-null    int64  \n",
      "dtypes: float64(4), int64(4), uint8(22)\n",
      "memory usage: 61.4 KB\n"
     ]
    }
   ],
   "source": [
    "df1.info()"
   ]
  },
  {
   "cell_type": "code",
   "execution_count": 30,
   "metadata": {},
   "outputs": [
    {
     "data": {
      "text/plain": [
       "Index(['season_2', 'season_3', 'season_4', 'mnth_2', 'mnth_3', 'mnth_4',\n",
       "       'mnth_5', 'mnth_6', 'mnth_7', 'mnth_8', 'mnth_9', 'mnth_10', 'mnth_11',\n",
       "       'mnth_12', 'weekday_1', 'weekday_2', 'weekday_3', 'weekday_4',\n",
       "       'weekday_5', 'weekday_6', 'weathersit_2', 'weathersit_3', 'yr',\n",
       "       'holiday', 'workingday', 'temp', 'atemp', 'hum', 'windspeed', 'cnt'],\n",
       "      dtype='object')"
      ]
     },
     "execution_count": 30,
     "metadata": {},
     "output_type": "execute_result"
    }
   ],
   "source": [
    "# Checking columns again after dropping not necessary columns\n",
    "df1.columns"
   ]
  },
  {
   "cell_type": "markdown",
   "metadata": {
    "id": "-vrWLZf4G0DM"
   },
   "source": [
    "## **Train-Test Split**"
   ]
  },
  {
   "cell_type": "code",
   "execution_count": 31,
   "metadata": {
    "id": "da_JZcnmG5P-"
   },
   "outputs": [],
   "source": [
    "# Spliting columns into two portion \n",
    "X=df1.drop([\"cnt\"],axis=1)   # X = features \n",
    "y=df1[\"cnt\"]   # y = target column"
   ]
  },
  {
   "cell_type": "code",
   "execution_count": 32,
   "metadata": {
    "id": "jyamNrL8G7wY"
   },
   "outputs": [],
   "source": [
    "# Spliting data into 4 parts as X_train,X_test,y_train,y_test\n",
    "from sklearn.model_selection import train_test_split\n",
    "X_train,X_test,y_train,y_test=train_test_split(X,y,test_size=0.3,random_state=100)"
   ]
  },
  {
   "cell_type": "code",
   "execution_count": 33,
   "metadata": {
    "colab": {
     "base_uri": "https://localhost:8080/"
    },
    "id": "4P4deX89G91Z",
    "outputId": "48097e1a-a2e0-44be-be85-90fb50dc34eb"
   },
   "outputs": [
    {
     "data": {
      "text/plain": [
       "(511, 29)"
      ]
     },
     "execution_count": 33,
     "metadata": {},
     "output_type": "execute_result"
    }
   ],
   "source": [
    "# Measiring X_train shape\n",
    "X_train.shape"
   ]
  },
  {
   "cell_type": "code",
   "execution_count": 34,
   "metadata": {
    "colab": {
     "base_uri": "https://localhost:8080/"
    },
    "id": "eH3nplRJHAjB",
    "outputId": "1b09768e-9cd0-4f67-995d-eb3f0d5eb8ba"
   },
   "outputs": [
    {
     "data": {
      "text/plain": [
       "(219, 29)"
      ]
     },
     "execution_count": 34,
     "metadata": {},
     "output_type": "execute_result"
    }
   ],
   "source": [
    "# Measiring X_test shape\n",
    "X_test.shape"
   ]
  },
  {
   "cell_type": "markdown",
   "metadata": {
    "id": "WC7bIsvKHCS5"
   },
   "source": [
    "## **Scalling**"
   ]
  },
  {
   "cell_type": "code",
   "execution_count": 35,
   "metadata": {
    "id": "Av_m380YHGZP"
   },
   "outputs": [],
   "source": [
    "#Standardization\n",
    "#z=x-xmean/sigma\n",
    "X_train=(X_train-X_train.mean())/X_train.std()"
   ]
  },
  {
   "cell_type": "code",
   "execution_count": 36,
   "metadata": {
    "id": "aSxwkfJDHK3o"
   },
   "outputs": [],
   "source": [
    "X_test=(X_test-X_test.mean())/X_test.std()"
   ]
  },
  {
   "cell_type": "markdown",
   "metadata": {
    "id": "O-bLnaqSHLp4"
   },
   "source": [
    "## **Modelling**"
   ]
  },
  {
   "cell_type": "markdown",
   "metadata": {
    "id": "udp2RfUJHQ5v"
   },
   "source": [
    "### **Feature Selection**"
   ]
  },
  {
   "cell_type": "code",
   "execution_count": 37,
   "metadata": {
    "colab": {
     "base_uri": "https://localhost:8080/"
    },
    "id": "XCrwvr32HU93",
    "outputId": "08bdc550-e046-44c4-d728-ec04449fb244"
   },
   "outputs": [
    {
     "data": {
      "text/plain": [
       "RFE(estimator=LinearRegression(), n_features_to_select=15)"
      ]
     },
     "execution_count": 37,
     "metadata": {},
     "output_type": "execute_result"
    }
   ],
   "source": [
    "# Building a Lienar Regression model using SKLearn for RFE\n",
    "from sklearn.feature_selection import RFE\n",
    "from sklearn.linear_model import LinearRegression\n",
    "\n",
    "estimator=LinearRegression()\n",
    "selector=RFE(estimator,n_features_to_select=15)#15\n",
    "\n",
    "selector=selector.fit(X_train,y_train)\n",
    "selector.support_\n",
    "selector"
   ]
  },
  {
   "cell_type": "code",
   "execution_count": 38,
   "metadata": {
    "colab": {
     "base_uri": "https://localhost:8080/"
    },
    "id": "TfTIuB-3HYix",
    "outputId": "e9f5cdab-21ef-45c0-f850-1d05ac104e84"
   },
   "outputs": [
    {
     "data": {
      "text/plain": [
       "['season_2',\n",
       " 'season_3',\n",
       " 'season_4',\n",
       " 'mnth_3',\n",
       " 'mnth_8',\n",
       " 'mnth_9',\n",
       " 'mnth_10',\n",
       " 'weekday_6',\n",
       " 'weathersit_2',\n",
       " 'weathersit_3',\n",
       " 'yr',\n",
       " 'workingday',\n",
       " 'temp',\n",
       " 'hum',\n",
       " 'windspeed']"
      ]
     },
     "execution_count": 38,
     "metadata": {},
     "output_type": "execute_result"
    }
   ],
   "source": [
    "# Columns selected by RFE\n",
    "selected_features = list(X_train.columns[selector.support_])\n",
    "selected_features"
   ]
  },
  {
   "cell_type": "code",
   "execution_count": 39,
   "metadata": {
    "id": "3XzvrwlMHaRN"
   },
   "outputs": [],
   "source": [
    "# Assigning changes of selected_feature into X_train and X_test\n",
    "X_train = X_train[selected_features]\n",
    "X_test = X_test[selected_features]"
   ]
  },
  {
   "cell_type": "code",
   "execution_count": 40,
   "metadata": {
    "id": "BMvumwvlIvRJ"
   },
   "outputs": [],
   "source": [
    "# Saving above changes into X_train-sm and X_test_sm\n",
    "import statsmodels.api as sm\n",
    "X_train_sm = sm.add_constant(X_train)\n",
    "X_test_sm = sm.add_constant(X_test)"
   ]
  },
  {
   "cell_type": "code",
   "execution_count": 41,
   "metadata": {
    "colab": {
     "base_uri": "https://localhost:8080/",
     "height": 644
    },
    "id": "6CMFXTnPHcaU",
    "outputId": "3dc867f6-5ab1-4230-f723-7e3a819a1696"
   },
   "outputs": [
    {
     "data": {
      "text/html": [
       "<table class=\"simpletable\">\n",
       "<caption>OLS Regression Results</caption>\n",
       "<tr>\n",
       "  <th>Dep. Variable:</th>           <td>cnt</td>       <th>  R-squared:         </th> <td>   0.848</td> \n",
       "</tr>\n",
       "<tr>\n",
       "  <th>Model:</th>                   <td>OLS</td>       <th>  Adj. R-squared:    </th> <td>   0.844</td> \n",
       "</tr>\n",
       "<tr>\n",
       "  <th>Method:</th>             <td>Least Squares</td>  <th>  F-statistic:       </th> <td>   184.4</td> \n",
       "</tr>\n",
       "<tr>\n",
       "  <th>Date:</th>             <td>Thu, 04 May 2023</td> <th>  Prob (F-statistic):</th> <td>1.66e-191</td>\n",
       "</tr>\n",
       "<tr>\n",
       "  <th>Time:</th>                 <td>19:38:25</td>     <th>  Log-Likelihood:    </th> <td> -4114.9</td> \n",
       "</tr>\n",
       "<tr>\n",
       "  <th>No. Observations:</th>      <td>   511</td>      <th>  AIC:               </th> <td>   8262.</td> \n",
       "</tr>\n",
       "<tr>\n",
       "  <th>Df Residuals:</th>          <td>   495</td>      <th>  BIC:               </th> <td>   8330.</td> \n",
       "</tr>\n",
       "<tr>\n",
       "  <th>Df Model:</th>              <td>    15</td>      <th>                     </th>     <td> </td>    \n",
       "</tr>\n",
       "<tr>\n",
       "  <th>Covariance Type:</th>      <td>nonrobust</td>    <th>                     </th>     <td> </td>    \n",
       "</tr>\n",
       "</table>\n",
       "<table class=\"simpletable\">\n",
       "<tr>\n",
       "        <td></td>          <th>coef</th>     <th>std err</th>      <th>t</th>      <th>P>|t|</th>  <th>[0.025</th>    <th>0.975]</th>  \n",
       "</tr>\n",
       "<tr>\n",
       "  <th>const</th>        <td> 4491.3033</td> <td>   34.173</td> <td>  131.430</td> <td> 0.000</td> <td> 4424.162</td> <td> 4558.445</td>\n",
       "</tr>\n",
       "<tr>\n",
       "  <th>season_2</th>     <td>  464.1224</td> <td>   55.751</td> <td>    8.325</td> <td> 0.000</td> <td>  354.584</td> <td>  573.660</td>\n",
       "</tr>\n",
       "<tr>\n",
       "  <th>season_3</th>     <td>  149.9144</td> <td>   85.735</td> <td>    1.749</td> <td> 0.081</td> <td>  -18.535</td> <td>  318.363</td>\n",
       "</tr>\n",
       "<tr>\n",
       "  <th>season_4</th>     <td>  563.0300</td> <td>   52.322</td> <td>   10.761</td> <td> 0.000</td> <td>  460.229</td> <td>  665.831</td>\n",
       "</tr>\n",
       "<tr>\n",
       "  <th>mnth_3</th>       <td>   69.2141</td> <td>   36.961</td> <td>    1.873</td> <td> 0.062</td> <td>   -3.405</td> <td>  141.833</td>\n",
       "</tr>\n",
       "<tr>\n",
       "  <th>mnth_8</th>       <td>  120.6945</td> <td>   44.386</td> <td>    2.719</td> <td> 0.007</td> <td>   33.486</td> <td>  207.903</td>\n",
       "</tr>\n",
       "<tr>\n",
       "  <th>mnth_9</th>       <td>  272.7055</td> <td>   40.396</td> <td>    6.751</td> <td> 0.000</td> <td>  193.336</td> <td>  352.075</td>\n",
       "</tr>\n",
       "<tr>\n",
       "  <th>mnth_10</th>      <td>  112.3184</td> <td>   42.156</td> <td>    2.664</td> <td> 0.008</td> <td>   29.493</td> <td>  195.144</td>\n",
       "</tr>\n",
       "<tr>\n",
       "  <th>weekday_6</th>    <td>  189.1568</td> <td>   43.947</td> <td>    4.304</td> <td> 0.000</td> <td>  102.810</td> <td>  275.503</td>\n",
       "</tr>\n",
       "<tr>\n",
       "  <th>weathersit_2</th> <td> -240.1159</td> <td>   42.902</td> <td>   -5.597</td> <td> 0.000</td> <td> -324.408</td> <td> -155.824</td>\n",
       "</tr>\n",
       "<tr>\n",
       "  <th>weathersit_3</th> <td> -372.5136</td> <td>   38.518</td> <td>   -9.671</td> <td> 0.000</td> <td> -448.193</td> <td> -296.834</td>\n",
       "</tr>\n",
       "<tr>\n",
       "  <th>yr</th>           <td> 1003.9270</td> <td>   34.826</td> <td>   28.827</td> <td> 0.000</td> <td>  935.502</td> <td> 1072.352</td>\n",
       "</tr>\n",
       "<tr>\n",
       "  <th>workingday</th>   <td>  210.7202</td> <td>   44.093</td> <td>    4.779</td> <td> 0.000</td> <td>  124.087</td> <td>  297.354</td>\n",
       "</tr>\n",
       "<tr>\n",
       "  <th>temp</th>         <td>  967.3093</td> <td>   65.947</td> <td>   14.668</td> <td> 0.000</td> <td>  837.738</td> <td> 1096.881</td>\n",
       "</tr>\n",
       "<tr>\n",
       "  <th>hum</th>          <td> -203.0978</td> <td>   47.323</td> <td>   -4.292</td> <td> 0.000</td> <td> -296.077</td> <td> -110.119</td>\n",
       "</tr>\n",
       "<tr>\n",
       "  <th>windspeed</th>    <td> -273.2240</td> <td>   37.467</td> <td>   -7.292</td> <td> 0.000</td> <td> -346.837</td> <td> -199.611</td>\n",
       "</tr>\n",
       "</table>\n",
       "<table class=\"simpletable\">\n",
       "<tr>\n",
       "  <th>Omnibus:</th>       <td>86.041</td> <th>  Durbin-Watson:     </th> <td>   2.037</td>\n",
       "</tr>\n",
       "<tr>\n",
       "  <th>Prob(Omnibus):</th> <td> 0.000</td> <th>  Jarque-Bera (JB):  </th> <td> 229.344</td>\n",
       "</tr>\n",
       "<tr>\n",
       "  <th>Skew:</th>          <td>-0.832</td> <th>  Prob(JB):          </th> <td>1.58e-50</td>\n",
       "</tr>\n",
       "<tr>\n",
       "  <th>Kurtosis:</th>      <td> 5.829</td> <th>  Cond. No.          </th> <td>    5.38</td>\n",
       "</tr>\n",
       "</table><br/><br/>Notes:<br/>[1] Standard Errors assume that the covariance matrix of the errors is correctly specified."
      ],
      "text/plain": [
       "<class 'statsmodels.iolib.summary.Summary'>\n",
       "\"\"\"\n",
       "                            OLS Regression Results                            \n",
       "==============================================================================\n",
       "Dep. Variable:                    cnt   R-squared:                       0.848\n",
       "Model:                            OLS   Adj. R-squared:                  0.844\n",
       "Method:                 Least Squares   F-statistic:                     184.4\n",
       "Date:                Thu, 04 May 2023   Prob (F-statistic):          1.66e-191\n",
       "Time:                        19:38:25   Log-Likelihood:                -4114.9\n",
       "No. Observations:                 511   AIC:                             8262.\n",
       "Df Residuals:                     495   BIC:                             8330.\n",
       "Df Model:                          15                                         \n",
       "Covariance Type:            nonrobust                                         \n",
       "================================================================================\n",
       "                   coef    std err          t      P>|t|      [0.025      0.975]\n",
       "--------------------------------------------------------------------------------\n",
       "const         4491.3033     34.173    131.430      0.000    4424.162    4558.445\n",
       "season_2       464.1224     55.751      8.325      0.000     354.584     573.660\n",
       "season_3       149.9144     85.735      1.749      0.081     -18.535     318.363\n",
       "season_4       563.0300     52.322     10.761      0.000     460.229     665.831\n",
       "mnth_3          69.2141     36.961      1.873      0.062      -3.405     141.833\n",
       "mnth_8         120.6945     44.386      2.719      0.007      33.486     207.903\n",
       "mnth_9         272.7055     40.396      6.751      0.000     193.336     352.075\n",
       "mnth_10        112.3184     42.156      2.664      0.008      29.493     195.144\n",
       "weekday_6      189.1568     43.947      4.304      0.000     102.810     275.503\n",
       "weathersit_2  -240.1159     42.902     -5.597      0.000    -324.408    -155.824\n",
       "weathersit_3  -372.5136     38.518     -9.671      0.000    -448.193    -296.834\n",
       "yr            1003.9270     34.826     28.827      0.000     935.502    1072.352\n",
       "workingday     210.7202     44.093      4.779      0.000     124.087     297.354\n",
       "temp           967.3093     65.947     14.668      0.000     837.738    1096.881\n",
       "hum           -203.0978     47.323     -4.292      0.000    -296.077    -110.119\n",
       "windspeed     -273.2240     37.467     -7.292      0.000    -346.837    -199.611\n",
       "==============================================================================\n",
       "Omnibus:                       86.041   Durbin-Watson:                   2.037\n",
       "Prob(Omnibus):                  0.000   Jarque-Bera (JB):              229.344\n",
       "Skew:                          -0.832   Prob(JB):                     1.58e-50\n",
       "Kurtosis:                       5.829   Cond. No.                         5.38\n",
       "==============================================================================\n",
       "\n",
       "Notes:\n",
       "[1] Standard Errors assume that the covariance matrix of the errors is correctly specified.\n",
       "\"\"\""
      ]
     },
     "execution_count": 41,
     "metadata": {},
     "output_type": "execute_result"
    }
   ],
   "source": [
    "# First Model\n",
    "model1 = sm.OLS(y_train,X_train_sm)\n",
    "res1 = model1.fit()\n",
    "res1.summary()"
   ]
  },
  {
   "cell_type": "code",
   "execution_count": 42,
   "metadata": {
    "colab": {
     "base_uri": "https://localhost:8080/",
     "height": 363
    },
    "id": "vKue6Z-LJSja",
    "outputId": "dece83d6-3b13-4ce6-b896-c8ef52b7b85f"
   },
   "outputs": [
    {
     "data": {
      "text/html": [
       "<div>\n",
       "<style scoped>\n",
       "    .dataframe tbody tr th:only-of-type {\n",
       "        vertical-align: middle;\n",
       "    }\n",
       "\n",
       "    .dataframe tbody tr th {\n",
       "        vertical-align: top;\n",
       "    }\n",
       "\n",
       "    .dataframe thead th {\n",
       "        text-align: right;\n",
       "    }\n",
       "</style>\n",
       "<table border=\"1\" class=\"dataframe\">\n",
       "  <thead>\n",
       "    <tr style=\"text-align: right;\">\n",
       "      <th></th>\n",
       "      <th>Feature</th>\n",
       "      <th>VIF</th>\n",
       "    </tr>\n",
       "  </thead>\n",
       "  <tbody>\n",
       "    <tr>\n",
       "      <th>0</th>\n",
       "      <td>season_2</td>\n",
       "      <td>2.656429</td>\n",
       "    </tr>\n",
       "    <tr>\n",
       "      <th>1</th>\n",
       "      <td>season_3</td>\n",
       "      <td>6.282110</td>\n",
       "    </tr>\n",
       "    <tr>\n",
       "      <th>2</th>\n",
       "      <td>season_4</td>\n",
       "      <td>2.339727</td>\n",
       "    </tr>\n",
       "    <tr>\n",
       "      <th>3</th>\n",
       "      <td>mnth_3</td>\n",
       "      <td>1.167527</td>\n",
       "    </tr>\n",
       "    <tr>\n",
       "      <th>4</th>\n",
       "      <td>mnth_8</td>\n",
       "      <td>1.683775</td>\n",
       "    </tr>\n",
       "    <tr>\n",
       "      <th>5</th>\n",
       "      <td>mnth_9</td>\n",
       "      <td>1.394690</td>\n",
       "    </tr>\n",
       "    <tr>\n",
       "      <th>6</th>\n",
       "      <td>mnth_10</td>\n",
       "      <td>1.518799</td>\n",
       "    </tr>\n",
       "    <tr>\n",
       "      <th>7</th>\n",
       "      <td>weekday_6</td>\n",
       "      <td>1.650661</td>\n",
       "    </tr>\n",
       "    <tr>\n",
       "      <th>8</th>\n",
       "      <td>weathersit_2</td>\n",
       "      <td>1.573057</td>\n",
       "    </tr>\n",
       "    <tr>\n",
       "      <th>9</th>\n",
       "      <td>weathersit_3</td>\n",
       "      <td>1.268022</td>\n",
       "    </tr>\n",
       "    <tr>\n",
       "      <th>10</th>\n",
       "      <td>yr</td>\n",
       "      <td>1.036581</td>\n",
       "    </tr>\n",
       "    <tr>\n",
       "      <th>11</th>\n",
       "      <td>workingday</td>\n",
       "      <td>1.661651</td>\n",
       "    </tr>\n",
       "    <tr>\n",
       "      <th>12</th>\n",
       "      <td>temp</td>\n",
       "      <td>3.716944</td>\n",
       "    </tr>\n",
       "    <tr>\n",
       "      <th>13</th>\n",
       "      <td>hum</td>\n",
       "      <td>1.913972</td>\n",
       "    </tr>\n",
       "    <tr>\n",
       "      <th>14</th>\n",
       "      <td>windspeed</td>\n",
       "      <td>1.199725</td>\n",
       "    </tr>\n",
       "  </tbody>\n",
       "</table>\n",
       "</div>"
      ],
      "text/plain": [
       "         Feature       VIF\n",
       "0       season_2  2.656429\n",
       "1       season_3  6.282110\n",
       "2       season_4  2.339727\n",
       "3         mnth_3  1.167527\n",
       "4         mnth_8  1.683775\n",
       "5         mnth_9  1.394690\n",
       "6        mnth_10  1.518799\n",
       "7      weekday_6  1.650661\n",
       "8   weathersit_2  1.573057\n",
       "9   weathersit_3  1.268022\n",
       "10            yr  1.036581\n",
       "11    workingday  1.661651\n",
       "12          temp  3.716944\n",
       "13           hum  1.913972\n",
       "14     windspeed  1.199725"
      ]
     },
     "execution_count": 42,
     "metadata": {},
     "output_type": "execute_result"
    }
   ],
   "source": [
    "# Checking VIF\n",
    "from statsmodels.stats.outliers_influence import variance_inflation_factor\n",
    "\n",
    "vif_data = pd.DataFrame()\n",
    "vif_data[\"Feature\"]=X_train.columns\n",
    "\n",
    "vif_data[\"VIF\"] = [variance_inflation_factor(X_train.values,i) for i in range(len(X_train.columns))]\n",
    "vif_data"
   ]
  },
  {
   "cell_type": "code",
   "execution_count": 43,
   "metadata": {
    "id": "9jYxaW8PKWq5"
   },
   "outputs": [],
   "source": [
    "# Dropping season_3 because it is very closer to p_value 0.05 or (5%).\n",
    "\n",
    "X_train = X_train_sm.drop([\"season_3\"],axis=1)\n",
    "X_test = X_test_sm.drop([\"season_3\"],axis=1)"
   ]
  },
  {
   "cell_type": "code",
   "execution_count": 44,
   "metadata": {},
   "outputs": [],
   "source": [
    "# again adding the changes in update in x_data\n",
    "\n",
    "X_train_sm = sm.add_constant(X_train)\n",
    "X_test_sm = sm.add_constant(X_test)"
   ]
  },
  {
   "cell_type": "code",
   "execution_count": 45,
   "metadata": {
    "colab": {
     "base_uri": "https://localhost:8080/",
     "height": 622
    },
    "id": "2a457e5a",
    "outputId": "333c9000-e1be-4a56-8043-e481c8d0fa74"
   },
   "outputs": [
    {
     "data": {
      "text/html": [
       "<table class=\"simpletable\">\n",
       "<caption>OLS Regression Results</caption>\n",
       "<tr>\n",
       "  <th>Dep. Variable:</th>           <td>cnt</td>       <th>  R-squared:         </th> <td>   0.847</td> \n",
       "</tr>\n",
       "<tr>\n",
       "  <th>Model:</th>                   <td>OLS</td>       <th>  Adj. R-squared:    </th> <td>   0.843</td> \n",
       "</tr>\n",
       "<tr>\n",
       "  <th>Method:</th>             <td>Least Squares</td>  <th>  F-statistic:       </th> <td>   196.6</td> \n",
       "</tr>\n",
       "<tr>\n",
       "  <th>Date:</th>             <td>Thu, 04 May 2023</td> <th>  Prob (F-statistic):</th> <td>5.29e-192</td>\n",
       "</tr>\n",
       "<tr>\n",
       "  <th>Time:</th>                 <td>19:38:25</td>     <th>  Log-Likelihood:    </th> <td> -4116.5</td> \n",
       "</tr>\n",
       "<tr>\n",
       "  <th>No. Observations:</th>      <td>   511</td>      <th>  AIC:               </th> <td>   8263.</td> \n",
       "</tr>\n",
       "<tr>\n",
       "  <th>Df Residuals:</th>          <td>   496</td>      <th>  BIC:               </th> <td>   8326.</td> \n",
       "</tr>\n",
       "<tr>\n",
       "  <th>Df Model:</th>              <td>    14</td>      <th>                     </th>     <td> </td>    \n",
       "</tr>\n",
       "<tr>\n",
       "  <th>Covariance Type:</th>      <td>nonrobust</td>    <th>                     </th>     <td> </td>    \n",
       "</tr>\n",
       "</table>\n",
       "<table class=\"simpletable\">\n",
       "<tr>\n",
       "        <td></td>          <th>coef</th>     <th>std err</th>      <th>t</th>      <th>P>|t|</th>  <th>[0.025</th>    <th>0.975]</th>  \n",
       "</tr>\n",
       "<tr>\n",
       "  <th>const</th>        <td> 4491.3033</td> <td>   34.243</td> <td>  131.158</td> <td> 0.000</td> <td> 4424.023</td> <td> 4558.584</td>\n",
       "</tr>\n",
       "<tr>\n",
       "  <th>season_2</th>     <td>  396.6221</td> <td>   40.308</td> <td>    9.840</td> <td> 0.000</td> <td>  317.427</td> <td>  475.817</td>\n",
       "</tr>\n",
       "<tr>\n",
       "  <th>season_4</th>     <td>  518.6214</td> <td>   45.840</td> <td>   11.314</td> <td> 0.000</td> <td>  428.557</td> <td>  608.686</td>\n",
       "</tr>\n",
       "<tr>\n",
       "  <th>mnth_3</th>       <td>   56.3343</td> <td>   36.294</td> <td>    1.552</td> <td> 0.121</td> <td>  -14.975</td> <td>  127.644</td>\n",
       "</tr>\n",
       "<tr>\n",
       "  <th>mnth_8</th>       <td>  148.6580</td> <td>   41.491</td> <td>    3.583</td> <td> 0.000</td> <td>   67.139</td> <td>  230.177</td>\n",
       "</tr>\n",
       "<tr>\n",
       "  <th>mnth_9</th>       <td>  295.8286</td> <td>   38.250</td> <td>    7.734</td> <td> 0.000</td> <td>  220.677</td> <td>  370.980</td>\n",
       "</tr>\n",
       "<tr>\n",
       "  <th>mnth_10</th>      <td>  102.4396</td> <td>   41.862</td> <td>    2.447</td> <td> 0.015</td> <td>   20.191</td> <td>  184.688</td>\n",
       "</tr>\n",
       "<tr>\n",
       "  <th>weekday_6</th>    <td>  189.1058</td> <td>   44.038</td> <td>    4.294</td> <td> 0.000</td> <td>  102.581</td> <td>  275.631</td>\n",
       "</tr>\n",
       "<tr>\n",
       "  <th>weathersit_2</th> <td> -234.8246</td> <td>   42.884</td> <td>   -5.476</td> <td> 0.000</td> <td> -319.081</td> <td> -150.568</td>\n",
       "</tr>\n",
       "<tr>\n",
       "  <th>weathersit_3</th> <td> -364.7199</td> <td>   38.339</td> <td>   -9.513</td> <td> 0.000</td> <td> -440.047</td> <td> -289.393</td>\n",
       "</tr>\n",
       "<tr>\n",
       "  <th>yr</th>           <td>  998.8278</td> <td>   34.776</td> <td>   28.722</td> <td> 0.000</td> <td>  930.502</td> <td> 1067.154</td>\n",
       "</tr>\n",
       "<tr>\n",
       "  <th>workingday</th>   <td>  211.1318</td> <td>   44.184</td> <td>    4.778</td> <td> 0.000</td> <td>  124.320</td> <td>  297.943</td>\n",
       "</tr>\n",
       "<tr>\n",
       "  <th>temp</th>         <td> 1053.8479</td> <td>   43.676</td> <td>   24.129</td> <td> 0.000</td> <td>  968.035</td> <td> 1139.661</td>\n",
       "</tr>\n",
       "<tr>\n",
       "  <th>hum</th>          <td> -215.0261</td> <td>   46.926</td> <td>   -4.582</td> <td> 0.000</td> <td> -307.224</td> <td> -122.828</td>\n",
       "</tr>\n",
       "<tr>\n",
       "  <th>windspeed</th>    <td> -278.9240</td> <td>   37.402</td> <td>   -7.457</td> <td> 0.000</td> <td> -352.410</td> <td> -205.438</td>\n",
       "</tr>\n",
       "</table>\n",
       "<table class=\"simpletable\">\n",
       "<tr>\n",
       "  <th>Omnibus:</th>       <td>77.456</td> <th>  Durbin-Watson:     </th> <td>   2.032</td>\n",
       "</tr>\n",
       "<tr>\n",
       "  <th>Prob(Omnibus):</th> <td> 0.000</td> <th>  Jarque-Bera (JB):  </th> <td> 194.113</td>\n",
       "</tr>\n",
       "<tr>\n",
       "  <th>Skew:</th>          <td>-0.772</td> <th>  Prob(JB):          </th> <td>7.06e-43</td>\n",
       "</tr>\n",
       "<tr>\n",
       "  <th>Kurtosis:</th>      <td> 5.595</td> <th>  Cond. No.          </th> <td>    2.67</td>\n",
       "</tr>\n",
       "</table><br/><br/>Notes:<br/>[1] Standard Errors assume that the covariance matrix of the errors is correctly specified."
      ],
      "text/plain": [
       "<class 'statsmodels.iolib.summary.Summary'>\n",
       "\"\"\"\n",
       "                            OLS Regression Results                            \n",
       "==============================================================================\n",
       "Dep. Variable:                    cnt   R-squared:                       0.847\n",
       "Model:                            OLS   Adj. R-squared:                  0.843\n",
       "Method:                 Least Squares   F-statistic:                     196.6\n",
       "Date:                Thu, 04 May 2023   Prob (F-statistic):          5.29e-192\n",
       "Time:                        19:38:25   Log-Likelihood:                -4116.5\n",
       "No. Observations:                 511   AIC:                             8263.\n",
       "Df Residuals:                     496   BIC:                             8326.\n",
       "Df Model:                          14                                         \n",
       "Covariance Type:            nonrobust                                         \n",
       "================================================================================\n",
       "                   coef    std err          t      P>|t|      [0.025      0.975]\n",
       "--------------------------------------------------------------------------------\n",
       "const         4491.3033     34.243    131.158      0.000    4424.023    4558.584\n",
       "season_2       396.6221     40.308      9.840      0.000     317.427     475.817\n",
       "season_4       518.6214     45.840     11.314      0.000     428.557     608.686\n",
       "mnth_3          56.3343     36.294      1.552      0.121     -14.975     127.644\n",
       "mnth_8         148.6580     41.491      3.583      0.000      67.139     230.177\n",
       "mnth_9         295.8286     38.250      7.734      0.000     220.677     370.980\n",
       "mnth_10        102.4396     41.862      2.447      0.015      20.191     184.688\n",
       "weekday_6      189.1058     44.038      4.294      0.000     102.581     275.631\n",
       "weathersit_2  -234.8246     42.884     -5.476      0.000    -319.081    -150.568\n",
       "weathersit_3  -364.7199     38.339     -9.513      0.000    -440.047    -289.393\n",
       "yr             998.8278     34.776     28.722      0.000     930.502    1067.154\n",
       "workingday     211.1318     44.184      4.778      0.000     124.320     297.943\n",
       "temp          1053.8479     43.676     24.129      0.000     968.035    1139.661\n",
       "hum           -215.0261     46.926     -4.582      0.000    -307.224    -122.828\n",
       "windspeed     -278.9240     37.402     -7.457      0.000    -352.410    -205.438\n",
       "==============================================================================\n",
       "Omnibus:                       77.456   Durbin-Watson:                   2.032\n",
       "Prob(Omnibus):                  0.000   Jarque-Bera (JB):              194.113\n",
       "Skew:                          -0.772   Prob(JB):                     7.06e-43\n",
       "Kurtosis:                       5.595   Cond. No.                         2.67\n",
       "==============================================================================\n",
       "\n",
       "Notes:\n",
       "[1] Standard Errors assume that the covariance matrix of the errors is correctly specified.\n",
       "\"\"\""
      ]
     },
     "execution_count": 45,
     "metadata": {},
     "output_type": "execute_result"
    }
   ],
   "source": [
    "# Second Model\n",
    "model2 = sm.OLS(y_train,X_train_sm)\n",
    "res2 = model2.fit()\n",
    "res2.summary()"
   ]
  },
  {
   "cell_type": "code",
   "execution_count": 46,
   "metadata": {
    "colab": {
     "base_uri": "https://localhost:8080/",
     "height": 363
    },
    "id": "QauAtogrQBco",
    "outputId": "c7c26426-c873-47e8-9026-cdc2568c2ce6"
   },
   "outputs": [
    {
     "data": {
      "text/html": [
       "<div>\n",
       "<style scoped>\n",
       "    .dataframe tbody tr th:only-of-type {\n",
       "        vertical-align: middle;\n",
       "    }\n",
       "\n",
       "    .dataframe tbody tr th {\n",
       "        vertical-align: top;\n",
       "    }\n",
       "\n",
       "    .dataframe thead th {\n",
       "        text-align: right;\n",
       "    }\n",
       "</style>\n",
       "<table border=\"1\" class=\"dataframe\">\n",
       "  <thead>\n",
       "    <tr style=\"text-align: right;\">\n",
       "      <th></th>\n",
       "      <th>Feature</th>\n",
       "      <th>VIF</th>\n",
       "    </tr>\n",
       "  </thead>\n",
       "  <tbody>\n",
       "    <tr>\n",
       "      <th>0</th>\n",
       "      <td>const</td>\n",
       "      <td>1.000000</td>\n",
       "    </tr>\n",
       "    <tr>\n",
       "      <th>1</th>\n",
       "      <td>season_2</td>\n",
       "      <td>1.382836</td>\n",
       "    </tr>\n",
       "    <tr>\n",
       "      <th>2</th>\n",
       "      <td>season_4</td>\n",
       "      <td>1.788470</td>\n",
       "    </tr>\n",
       "    <tr>\n",
       "      <th>3</th>\n",
       "      <td>mnth_3</td>\n",
       "      <td>1.121157</td>\n",
       "    </tr>\n",
       "    <tr>\n",
       "      <th>4</th>\n",
       "      <td>mnth_8</td>\n",
       "      <td>1.465199</td>\n",
       "    </tr>\n",
       "    <tr>\n",
       "      <th>5</th>\n",
       "      <td>mnth_9</td>\n",
       "      <td>1.245235</td>\n",
       "    </tr>\n",
       "    <tr>\n",
       "      <th>6</th>\n",
       "      <td>mnth_10</td>\n",
       "      <td>1.491520</td>\n",
       "    </tr>\n",
       "    <tr>\n",
       "      <th>7</th>\n",
       "      <td>weekday_6</td>\n",
       "      <td>1.650661</td>\n",
       "    </tr>\n",
       "    <tr>\n",
       "      <th>8</th>\n",
       "      <td>weathersit_2</td>\n",
       "      <td>1.565231</td>\n",
       "    </tr>\n",
       "    <tr>\n",
       "      <th>9</th>\n",
       "      <td>weathersit_3</td>\n",
       "      <td>1.251044</td>\n",
       "    </tr>\n",
       "    <tr>\n",
       "      <th>10</th>\n",
       "      <td>yr</td>\n",
       "      <td>1.029313</td>\n",
       "    </tr>\n",
       "    <tr>\n",
       "      <th>11</th>\n",
       "      <td>workingday</td>\n",
       "      <td>1.661604</td>\n",
       "    </tr>\n",
       "    <tr>\n",
       "      <th>12</th>\n",
       "      <td>temp</td>\n",
       "      <td>1.623609</td>\n",
       "    </tr>\n",
       "    <tr>\n",
       "      <th>13</th>\n",
       "      <td>hum</td>\n",
       "      <td>1.874200</td>\n",
       "    </tr>\n",
       "    <tr>\n",
       "      <th>14</th>\n",
       "      <td>windspeed</td>\n",
       "      <td>1.190644</td>\n",
       "    </tr>\n",
       "  </tbody>\n",
       "</table>\n",
       "</div>"
      ],
      "text/plain": [
       "         Feature       VIF\n",
       "0          const  1.000000\n",
       "1       season_2  1.382836\n",
       "2       season_4  1.788470\n",
       "3         mnth_3  1.121157\n",
       "4         mnth_8  1.465199\n",
       "5         mnth_9  1.245235\n",
       "6        mnth_10  1.491520\n",
       "7      weekday_6  1.650661\n",
       "8   weathersit_2  1.565231\n",
       "9   weathersit_3  1.251044\n",
       "10            yr  1.029313\n",
       "11    workingday  1.661604\n",
       "12          temp  1.623609\n",
       "13           hum  1.874200\n",
       "14     windspeed  1.190644"
      ]
     },
     "execution_count": 46,
     "metadata": {},
     "output_type": "execute_result"
    }
   ],
   "source": [
    "# Checking VIF again\n",
    "from statsmodels.stats.outliers_influence import variance_inflation_factor\n",
    "\n",
    "vif_data = pd.DataFrame()\n",
    "vif_data[\"Feature\"]=X_train_sm.columns\n",
    "\n",
    "vif_data[\"VIF\"]=[variance_inflation_factor(X_train_sm.values,i) for i in range(len(X_train_sm.columns))]\n",
    "vif_data"
   ]
  },
  {
   "cell_type": "code",
   "execution_count": 47,
   "metadata": {},
   "outputs": [],
   "source": [
    "# Dropping mnth because it has high p_value of 0.121\n",
    "X_train = X_train_sm.drop([\"mnth_3\"],axis=1)\n",
    "X_test = X_test_sm.drop([\"mnth_3\"],axis=1)"
   ]
  },
  {
   "cell_type": "code",
   "execution_count": 48,
   "metadata": {},
   "outputs": [],
   "source": [
    "# again adding the changes in update in x_data\n",
    "X_train_sm = sm.add_constant(X_train)\n",
    "X_test_sm = sm.add_constant(X_test)"
   ]
  },
  {
   "cell_type": "code",
   "execution_count": 49,
   "metadata": {},
   "outputs": [
    {
     "data": {
      "text/html": [
       "<table class=\"simpletable\">\n",
       "<caption>OLS Regression Results</caption>\n",
       "<tr>\n",
       "  <th>Dep. Variable:</th>           <td>cnt</td>       <th>  R-squared:         </th> <td>   0.847</td> \n",
       "</tr>\n",
       "<tr>\n",
       "  <th>Model:</th>                   <td>OLS</td>       <th>  Adj. R-squared:    </th> <td>   0.843</td> \n",
       "</tr>\n",
       "<tr>\n",
       "  <th>Method:</th>             <td>Least Squares</td>  <th>  F-statistic:       </th> <td>   210.9</td> \n",
       "</tr>\n",
       "<tr>\n",
       "  <th>Date:</th>             <td>Thu, 04 May 2023</td> <th>  Prob (F-statistic):</th> <td>1.18e-192</td>\n",
       "</tr>\n",
       "<tr>\n",
       "  <th>Time:</th>                 <td>19:38:25</td>     <th>  Log-Likelihood:    </th> <td> -4117.7</td> \n",
       "</tr>\n",
       "<tr>\n",
       "  <th>No. Observations:</th>      <td>   511</td>      <th>  AIC:               </th> <td>   8263.</td> \n",
       "</tr>\n",
       "<tr>\n",
       "  <th>Df Residuals:</th>          <td>   497</td>      <th>  BIC:               </th> <td>   8323.</td> \n",
       "</tr>\n",
       "<tr>\n",
       "  <th>Df Model:</th>              <td>    13</td>      <th>                     </th>     <td> </td>    \n",
       "</tr>\n",
       "<tr>\n",
       "  <th>Covariance Type:</th>      <td>nonrobust</td>    <th>                     </th>     <td> </td>    \n",
       "</tr>\n",
       "</table>\n",
       "<table class=\"simpletable\">\n",
       "<tr>\n",
       "        <td></td>          <th>coef</th>     <th>std err</th>      <th>t</th>      <th>P>|t|</th>  <th>[0.025</th>    <th>0.975]</th>  \n",
       "</tr>\n",
       "<tr>\n",
       "  <th>const</th>        <td> 4491.3033</td> <td>   34.292</td> <td>  130.972</td> <td> 0.000</td> <td> 4423.928</td> <td> 4558.679</td>\n",
       "</tr>\n",
       "<tr>\n",
       "  <th>season_2</th>     <td>  396.3534</td> <td>   40.365</td> <td>    9.819</td> <td> 0.000</td> <td>  317.047</td> <td>  475.660</td>\n",
       "</tr>\n",
       "<tr>\n",
       "  <th>season_4</th>     <td>  504.5449</td> <td>   44.998</td> <td>   11.213</td> <td> 0.000</td> <td>  416.136</td> <td>  592.954</td>\n",
       "</tr>\n",
       "<tr>\n",
       "  <th>mnth_8</th>       <td>  143.8956</td> <td>   41.436</td> <td>    3.473</td> <td> 0.001</td> <td>   62.485</td> <td>  225.307</td>\n",
       "</tr>\n",
       "<tr>\n",
       "  <th>mnth_9</th>       <td>  292.2014</td> <td>   38.232</td> <td>    7.643</td> <td> 0.000</td> <td>  217.084</td> <td>  367.319</td>\n",
       "</tr>\n",
       "<tr>\n",
       "  <th>mnth_10</th>      <td>  103.3359</td> <td>   41.917</td> <td>    2.465</td> <td> 0.014</td> <td>   20.979</td> <td>  185.692</td>\n",
       "</tr>\n",
       "<tr>\n",
       "  <th>weekday_6</th>    <td>  192.5367</td> <td>   44.045</td> <td>    4.371</td> <td> 0.000</td> <td>  105.999</td> <td>  279.075</td>\n",
       "</tr>\n",
       "<tr>\n",
       "  <th>weathersit_2</th> <td> -234.6177</td> <td>   42.944</td> <td>   -5.463</td> <td> 0.000</td> <td> -318.992</td> <td> -150.243</td>\n",
       "</tr>\n",
       "<tr>\n",
       "  <th>weathersit_3</th> <td> -362.6889</td> <td>   38.371</td> <td>   -9.452</td> <td> 0.000</td> <td> -438.078</td> <td> -287.300</td>\n",
       "</tr>\n",
       "<tr>\n",
       "  <th>yr</th>           <td>  999.5471</td> <td>   34.822</td> <td>   28.704</td> <td> 0.000</td> <td>  931.131</td> <td> 1067.964</td>\n",
       "</tr>\n",
       "<tr>\n",
       "  <th>workingday</th>   <td>  215.2474</td> <td>   44.167</td> <td>    4.873</td> <td> 0.000</td> <td>  128.470</td> <td>  302.025</td>\n",
       "</tr>\n",
       "<tr>\n",
       "  <th>temp</th>         <td> 1043.7796</td> <td>   43.253</td> <td>   24.132</td> <td> 0.000</td> <td>  958.798</td> <td> 1128.761</td>\n",
       "</tr>\n",
       "<tr>\n",
       "  <th>hum</th>          <td> -216.2355</td> <td>   46.986</td> <td>   -4.602</td> <td> 0.000</td> <td> -308.551</td> <td> -123.920</td>\n",
       "</tr>\n",
       "<tr>\n",
       "  <th>windspeed</th>    <td> -275.4992</td> <td>   37.390</td> <td>   -7.368</td> <td> 0.000</td> <td> -348.961</td> <td> -202.038</td>\n",
       "</tr>\n",
       "</table>\n",
       "<table class=\"simpletable\">\n",
       "<tr>\n",
       "  <th>Omnibus:</th>       <td>76.792</td> <th>  Durbin-Watson:     </th> <td>   2.031</td>\n",
       "</tr>\n",
       "<tr>\n",
       "  <th>Prob(Omnibus):</th> <td> 0.000</td> <th>  Jarque-Bera (JB):  </th> <td> 201.552</td>\n",
       "</tr>\n",
       "<tr>\n",
       "  <th>Skew:</th>          <td>-0.750</td> <th>  Prob(JB):          </th> <td>1.71e-44</td>\n",
       "</tr>\n",
       "<tr>\n",
       "  <th>Kurtosis:</th>      <td> 5.686</td> <th>  Cond. No.          </th> <td>    2.63</td>\n",
       "</tr>\n",
       "</table><br/><br/>Notes:<br/>[1] Standard Errors assume that the covariance matrix of the errors is correctly specified."
      ],
      "text/plain": [
       "<class 'statsmodels.iolib.summary.Summary'>\n",
       "\"\"\"\n",
       "                            OLS Regression Results                            \n",
       "==============================================================================\n",
       "Dep. Variable:                    cnt   R-squared:                       0.847\n",
       "Model:                            OLS   Adj. R-squared:                  0.843\n",
       "Method:                 Least Squares   F-statistic:                     210.9\n",
       "Date:                Thu, 04 May 2023   Prob (F-statistic):          1.18e-192\n",
       "Time:                        19:38:25   Log-Likelihood:                -4117.7\n",
       "No. Observations:                 511   AIC:                             8263.\n",
       "Df Residuals:                     497   BIC:                             8323.\n",
       "Df Model:                          13                                         \n",
       "Covariance Type:            nonrobust                                         \n",
       "================================================================================\n",
       "                   coef    std err          t      P>|t|      [0.025      0.975]\n",
       "--------------------------------------------------------------------------------\n",
       "const         4491.3033     34.292    130.972      0.000    4423.928    4558.679\n",
       "season_2       396.3534     40.365      9.819      0.000     317.047     475.660\n",
       "season_4       504.5449     44.998     11.213      0.000     416.136     592.954\n",
       "mnth_8         143.8956     41.436      3.473      0.001      62.485     225.307\n",
       "mnth_9         292.2014     38.232      7.643      0.000     217.084     367.319\n",
       "mnth_10        103.3359     41.917      2.465      0.014      20.979     185.692\n",
       "weekday_6      192.5367     44.045      4.371      0.000     105.999     279.075\n",
       "weathersit_2  -234.6177     42.944     -5.463      0.000    -318.992    -150.243\n",
       "weathersit_3  -362.6889     38.371     -9.452      0.000    -438.078    -287.300\n",
       "yr             999.5471     34.822     28.704      0.000     931.131    1067.964\n",
       "workingday     215.2474     44.167      4.873      0.000     128.470     302.025\n",
       "temp          1043.7796     43.253     24.132      0.000     958.798    1128.761\n",
       "hum           -216.2355     46.986     -4.602      0.000    -308.551    -123.920\n",
       "windspeed     -275.4992     37.390     -7.368      0.000    -348.961    -202.038\n",
       "==============================================================================\n",
       "Omnibus:                       76.792   Durbin-Watson:                   2.031\n",
       "Prob(Omnibus):                  0.000   Jarque-Bera (JB):              201.552\n",
       "Skew:                          -0.750   Prob(JB):                     1.71e-44\n",
       "Kurtosis:                       5.686   Cond. No.                         2.63\n",
       "==============================================================================\n",
       "\n",
       "Notes:\n",
       "[1] Standard Errors assume that the covariance matrix of the errors is correctly specified.\n",
       "\"\"\""
      ]
     },
     "execution_count": 49,
     "metadata": {},
     "output_type": "execute_result"
    }
   ],
   "source": [
    "# Third Model\n",
    "model3 = sm.OLS(y_train,X_train_sm)\n",
    "res3 = model3.fit()\n",
    "res3.summary()"
   ]
  },
  {
   "cell_type": "code",
   "execution_count": 50,
   "metadata": {},
   "outputs": [
    {
     "data": {
      "text/html": [
       "<div>\n",
       "<style scoped>\n",
       "    .dataframe tbody tr th:only-of-type {\n",
       "        vertical-align: middle;\n",
       "    }\n",
       "\n",
       "    .dataframe tbody tr th {\n",
       "        vertical-align: top;\n",
       "    }\n",
       "\n",
       "    .dataframe thead th {\n",
       "        text-align: right;\n",
       "    }\n",
       "</style>\n",
       "<table border=\"1\" class=\"dataframe\">\n",
       "  <thead>\n",
       "    <tr style=\"text-align: right;\">\n",
       "      <th></th>\n",
       "      <th>Feature</th>\n",
       "      <th>VIF</th>\n",
       "    </tr>\n",
       "  </thead>\n",
       "  <tbody>\n",
       "    <tr>\n",
       "      <th>0</th>\n",
       "      <td>const</td>\n",
       "      <td>1.000000</td>\n",
       "    </tr>\n",
       "    <tr>\n",
       "      <th>1</th>\n",
       "      <td>season_2</td>\n",
       "      <td>1.382810</td>\n",
       "    </tr>\n",
       "    <tr>\n",
       "      <th>2</th>\n",
       "      <td>season_4</td>\n",
       "      <td>1.718468</td>\n",
       "    </tr>\n",
       "    <tr>\n",
       "      <th>3</th>\n",
       "      <td>mnth_8</td>\n",
       "      <td>1.457186</td>\n",
       "    </tr>\n",
       "    <tr>\n",
       "      <th>4</th>\n",
       "      <td>mnth_9</td>\n",
       "      <td>1.240587</td>\n",
       "    </tr>\n",
       "    <tr>\n",
       "      <th>5</th>\n",
       "      <td>mnth_10</td>\n",
       "      <td>1.491236</td>\n",
       "    </tr>\n",
       "    <tr>\n",
       "      <th>6</th>\n",
       "      <td>weekday_6</td>\n",
       "      <td>1.646502</td>\n",
       "    </tr>\n",
       "    <tr>\n",
       "      <th>7</th>\n",
       "      <td>weathersit_2</td>\n",
       "      <td>1.565215</td>\n",
       "    </tr>\n",
       "    <tr>\n",
       "      <th>8</th>\n",
       "      <td>weathersit_3</td>\n",
       "      <td>1.249586</td>\n",
       "    </tr>\n",
       "    <tr>\n",
       "      <th>9</th>\n",
       "      <td>yr</td>\n",
       "      <td>1.029130</td>\n",
       "    </tr>\n",
       "    <tr>\n",
       "      <th>10</th>\n",
       "      <td>workingday</td>\n",
       "      <td>1.655620</td>\n",
       "    </tr>\n",
       "    <tr>\n",
       "      <th>11</th>\n",
       "      <td>temp</td>\n",
       "      <td>1.587797</td>\n",
       "    </tr>\n",
       "    <tr>\n",
       "      <th>12</th>\n",
       "      <td>hum</td>\n",
       "      <td>1.873683</td>\n",
       "    </tr>\n",
       "    <tr>\n",
       "      <th>13</th>\n",
       "      <td>windspeed</td>\n",
       "      <td>1.186500</td>\n",
       "    </tr>\n",
       "  </tbody>\n",
       "</table>\n",
       "</div>"
      ],
      "text/plain": [
       "         Feature       VIF\n",
       "0          const  1.000000\n",
       "1       season_2  1.382810\n",
       "2       season_4  1.718468\n",
       "3         mnth_8  1.457186\n",
       "4         mnth_9  1.240587\n",
       "5        mnth_10  1.491236\n",
       "6      weekday_6  1.646502\n",
       "7   weathersit_2  1.565215\n",
       "8   weathersit_3  1.249586\n",
       "9             yr  1.029130\n",
       "10    workingday  1.655620\n",
       "11          temp  1.587797\n",
       "12           hum  1.873683\n",
       "13     windspeed  1.186500"
      ]
     },
     "execution_count": 50,
     "metadata": {},
     "output_type": "execute_result"
    }
   ],
   "source": [
    "# Again checking VIF\n",
    "from statsmodels.stats.outliers_influence import variance_inflation_factor\n",
    "\n",
    "vif_data = pd.DataFrame()\n",
    "vif_data[\"Feature\"]=X_train_sm.columns\n",
    "\n",
    "vif_data[\"VIF\"]=[variance_inflation_factor(X_train_sm.values,i) for i in range(len(X_train_sm.columns))]\n",
    "vif_data"
   ]
  },
  {
   "cell_type": "markdown",
   "metadata": {},
   "source": [
    "#### `_Inference`_\n",
    "Here VIF seems to be almost accepted. p-value for all the features is  almost 0.0 and R2 is 0.847 \n",
    "Let us select Model 3 as our final as it has all important statistics high (R-square, Adjusted R-squared and F-statistic), along with no insignificant variables and no multi coliinear (high VIF) variables. \n",
    "Difference between R-squared and Adjusted R-squared values for this model is veryless, which also means that there are no additional parameters that can be removed from this model."
   ]
  },
  {
   "cell_type": "code",
   "execution_count": 51,
   "metadata": {},
   "outputs": [],
   "source": [
    "#Build a model with all columns to select features automatically\n",
    "def build_model_sk(X,y):\n",
    "    lr1 = LinearRegression()\n",
    "    lr1.fit(X,y)\n",
    "    return lr1"
   ]
  },
  {
   "cell_type": "code",
   "execution_count": 52,
   "metadata": {},
   "outputs": [
    {
     "name": "stdout",
     "output_type": "stream",
     "text": [
      "4491.3033268101735 [ 396.35340726  504.5449248   143.89556609  292.20141105  103.33586186\n",
      "  192.5366664  -234.61767194 -362.68887357  999.54714892  215.2473795\n",
      " 1043.77960737 -216.23545001 -275.49918439]\n"
     ]
    }
   ],
   "source": [
    "#Let us build the finalmodel using sklearn\n",
    "cols = ['season_2', 'season_4', 'mnth_8',\n",
    "        'mnth_9', 'mnth_10', 'weekday_6', \n",
    "        'weathersit_2', 'weathersit_3', \n",
    "        'yr', 'workingday', 'temp', 'hum', \n",
    "        'windspeed']\n",
    "\n",
    "#Build a model with above columns\n",
    "lr = build_model_sk(X_train[cols],y_train)\n",
    "print(lr.intercept_,lr.coef_)"
   ]
  },
  {
   "cell_type": "code",
   "execution_count": 53,
   "metadata": {},
   "outputs": [],
   "source": [
    "y_train_pred = lr.predict(X_train[cols])"
   ]
  },
  {
   "cell_type": "code",
   "execution_count": 54,
   "metadata": {},
   "outputs": [],
   "source": [
    "#Plot a histogram of the error terms\n",
    "def plot_res_dist(act, pred):\n",
    "    sns.distplot(act-pred)\n",
    "    plt.title('Error Terms')\n",
    "    plt.xlabel('Errors')"
   ]
  },
  {
   "cell_type": "code",
   "execution_count": 55,
   "metadata": {},
   "outputs": [
    {
     "data": {
      "image/png": "[encoded data removed]",
      "text/plain": [
       "<Figure size 640x480 with 1 Axes>"
      ]
     },
     "metadata": {},
     "output_type": "display_data"
    }
   ],
   "source": [
    "plot_res_dist(y_train, y_train_pred)"
   ]
  },
  {
   "cell_type": "markdown",
   "metadata": {},
   "source": [
    "#### Errors are normally distribured here with mean 0. So everything seems to be fine"
   ]
  },
  {
   "cell_type": "markdown",
   "metadata": {
    "id": "bN6PSsBtRuIU"
   },
   "source": [
    "## MODEL IS READY TO USE"
   ]
  },
  {
   "cell_type": "code",
   "execution_count": 56,
   "metadata": {
    "id": "z10znCI6R_oJ"
   },
   "outputs": [],
   "source": [
    "# Importing Libraries to calculate r square, train as well as test performance\n",
    "from sklearn.metrics import r2_score"
   ]
  },
  {
   "cell_type": "code",
   "execution_count": 57,
   "metadata": {
    "colab": {
     "base_uri": "https://localhost:8080/"
    },
    "id": "RiWdFYmZSV_H",
    "outputId": "c61ba4ab-9f90-4a50-baf0-e6fcae1a0565"
   },
   "outputs": [
    {
     "name": "stdout",
     "output_type": "stream",
     "text": [
      "Test Performance: 81.04 %\n"
     ]
    }
   ],
   "source": [
    "# R-Square of Test Data\n",
    "predicted_value = res3.predict(X_test_sm)\n",
    "print(\"Test Performance:\",round(r2_score(y_test, predicted_value)*100,2),\"%\")"
   ]
  },
  {
   "cell_type": "code",
   "execution_count": 58,
   "metadata": {},
   "outputs": [
    {
     "name": "stdout",
     "output_type": "stream",
     "text": [
      "Train Performance: 84.65 %\n"
     ]
    }
   ],
   "source": [
    "# R-Square of Train Data\n",
    "predicted_value1 = res3.predict(X_train_sm)\n",
    "print(\"Train Performance:\",round(r2_score(y_train, predicted_value1)*100,2),\"%\")"
   ]
  },
  {
   "cell_type": "code",
   "execution_count": 59,
   "metadata": {},
   "outputs": [
    {
     "name": "stdout",
     "output_type": "stream",
     "text": [
      "Adjusted R-Squared: 79.74 %\n"
     ]
    }
   ],
   "source": [
    "# Calculating Adjusted-R^2 value for the test dataset\n",
    "adjusted_r2 = round((1 - (1 - r2_score(y_test, predicted_value)) * (X_test.shape[0] - 1) / (X_test.shape[0] - X_test.shape[1] - 1)) * 100, 2)\n",
    "print(f\"Adjusted R-Squared: {adjusted_r2} %\")\n"
   ]
  },
  {
   "cell_type": "markdown",
   "metadata": {
    "id": "xHnZ8bEJR3IY"
   },
   "source": [
    "# **CONCLUSION**"
   ]
  },
  {
   "cell_type": "markdown",
   "metadata": {},
   "source": [
    "### Analysing the above model, the comapany should focus on the following features:\n",
    "- Company should focus on expanding business during 'season_2' and 'season_4'.\n",
    "- Company should focus on expanding business during mnth_8 to mnth_10.\n",
    "- Based on previous data it is expected to have a boom in number of users once situation comes back to normal, compared to 2019.\n",
    "- There would be less bookings during Light Snow or Rain, they could probably use this time to serive the bikes without having business impact.\n",
    "\n",
    "#### Hence when the situation comes back to normal, the company should come up with new offers during season_3 when the weather is pleasant and also advertise a little for mnth_9 as this is when business would be at its best."
   ]
  },
  {
   "cell_type": "markdown",
   "metadata": {},
   "source": [
    "### _`Conclusion`_\n",
    "Significant variables to predict the demand for shared bikes\n",
    "- holiday\n",
    "- temp\n",
    "- hum\n",
    "- windspeed\n",
    "- Season\n",
    "- months(mnth_8, mnth_9, ,mnth_10)\n",
    "- Year (2019)\n",
    "- Sunday\n",
    "- weathersit"
   ]
  },
  {
   "cell_type": "code",
   "execution_count": null,
   "metadata": {},
   "outputs": [],
   "source": []
  }
 ],
 "metadata": {
  "colab": {
   "provenance": []
  },
  "kernelspec": {
   "display_name": "Python 3 (ipykernel)",
   "language": "python",
   "name": "python3"
  },
  "language_info": {
   "codemirror_mode": {
    "name": "ipython",
    "version": 3
   },
   "file_extension": ".py",
   "mimetype": "text/x-python",
   "name": "python",
   "nbconvert_exporter": "python",
   "pygments_lexer": "ipython3",
   "version": "3.9.13"
  }
 },
 "nbformat": 4,
 "nbformat_minor": 1
}
